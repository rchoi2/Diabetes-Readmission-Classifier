{
 "cells": [
  {
   "cell_type": "markdown",
   "metadata": {},
   "source": [
    "# Predicting Diabetic Patient Readmissions with Machine Learning\n",
    "\n",
    "<p><a name=\"sections\"></a></p>\n",
    "\n",
    "\n",
    "## Table of Contents\n",
    "\n",
    "- <a href=\"#intro\">Introduction</a><br>\n",
    " - <a href=\"#motivation\">Motivation</a><br>\n",
    " - <a href=\"#dataset\">Dataset</a><br>\n",
    " - <a href=\"#process\">Process</a><br>\n",
    "- <a href=\"#importshelp\">Imports and Helper Functions</a><br>\n",
    " - <a href=\"#modules\">Importing Libraries</a><br>\n",
    " - <a href=\"#helper\">Helper Functions</a><br>\n",
    "- <a href=\"#clean\">Data Cleaning</a><br>\n",
    " - <a href=\"#missing\">Missing Values</a><br>\n",
    " - <a href=\"#processing\">Feature Processing</a><br>\n",
    " - <a href=\"#encoding\">Encoding Categorical Features</a><br>\n",
    " - <a href=\"#scaling\">Standard Scaling</a><br>\n",
    " - <a href=\"#upsampling\">Addressing Imbalanced Dataset</a><br>\n",
    "- <a href=\"#base\">Base ML Algorithms</a><br>\n",
    " - <a href=\"#dt\">Decision Trees</a><br>\n",
    " - <a href=\"#lr\">Logistic Regression</a><br>\n",
    " - <a href=\"#rf\">Random Forest</a><br>\n",
    " - <a href=\"#xgb\">XGBoost</a><br>\n",
    "- <a href=\"#optimized\">Optimized Machine Learning Algorithms</a><br>\n",
    " - <a href=\"#dt\">Decision Trees</a><br>\n",
    " - <a href=\"#lr\">Logistic Regression</a><br>\n",
    " - <a href=\"#rf\">Random Forest</a><br>\n",
    " - <a href=\"#xgb\">XGBoost</a><br>\n",
    "- <a href=\"#optimized\">Conclusion</a><br>"
   ]
  },
  {
   "cell_type": "markdown",
   "metadata": {},
   "source": [
    "<p><a name=\"intro\"></a></p>\n",
    "\n",
    "## Introduction"
   ]
  },
  {
   "cell_type": "code",
   "execution_count": 1,
   "metadata": {},
   "outputs": [],
   "source": [
    "import pandas as pd \n",
    "import numpy as np \n",
    "import matplotlib.pyplot as plt \n",
    "import seaborn as sns \n",
    "\n",
    "%matplotlib inline\n",
    "pd.set_option('max_columns', None)"
   ]
  },
  {
   "cell_type": "code",
   "execution_count": 2,
   "metadata": {},
   "outputs": [
    {
     "name": "stderr",
     "output_type": "stream",
     "text": [
      "/opt/anaconda3/lib/python3.7/site-packages/IPython/core/interactiveshell.py:3058: DtypeWarning: Columns (10) have mixed types. Specify dtype option on import or set low_memory=False.\n",
      "  interactivity=interactivity, compiler=compiler, result=result)\n"
     ]
    },
    {
     "data": {
      "text/html": [
       "<div>\n",
       "<style scoped>\n",
       "    .dataframe tbody tr th:only-of-type {\n",
       "        vertical-align: middle;\n",
       "    }\n",
       "\n",
       "    .dataframe tbody tr th {\n",
       "        vertical-align: top;\n",
       "    }\n",
       "\n",
       "    .dataframe thead th {\n",
       "        text-align: right;\n",
       "    }\n",
       "</style>\n",
       "<table border=\"1\" class=\"dataframe\">\n",
       "  <thead>\n",
       "    <tr style=\"text-align: right;\">\n",
       "      <th></th>\n",
       "      <th>encounter_id</th>\n",
       "      <th>patient_nbr</th>\n",
       "      <th>race</th>\n",
       "      <th>gender</th>\n",
       "      <th>age</th>\n",
       "      <th>weight</th>\n",
       "      <th>admission_type_id</th>\n",
       "      <th>discharge_disposition_id</th>\n",
       "      <th>admission_source_id</th>\n",
       "      <th>time_in_hospital</th>\n",
       "      <th>payer_code</th>\n",
       "      <th>medical_specialty</th>\n",
       "      <th>num_lab_procedures</th>\n",
       "      <th>num_procedures</th>\n",
       "      <th>num_medications</th>\n",
       "      <th>number_outpatient</th>\n",
       "      <th>number_emergency</th>\n",
       "      <th>number_inpatient</th>\n",
       "      <th>diag_1</th>\n",
       "      <th>diag_2</th>\n",
       "      <th>diag_3</th>\n",
       "      <th>number_diagnoses</th>\n",
       "      <th>max_glu_serum</th>\n",
       "      <th>A1Cresult</th>\n",
       "      <th>metformin</th>\n",
       "      <th>repaglinide</th>\n",
       "      <th>nateglinide</th>\n",
       "      <th>chlorpropamide</th>\n",
       "      <th>glimepiride</th>\n",
       "      <th>acetohexamide</th>\n",
       "      <th>glipizide</th>\n",
       "      <th>glyburide</th>\n",
       "      <th>tolbutamide</th>\n",
       "      <th>pioglitazone</th>\n",
       "      <th>rosiglitazone</th>\n",
       "      <th>acarbose</th>\n",
       "      <th>miglitol</th>\n",
       "      <th>troglitazone</th>\n",
       "      <th>tolazamide</th>\n",
       "      <th>examide</th>\n",
       "      <th>citoglipton</th>\n",
       "      <th>insulin</th>\n",
       "      <th>glyburide-metformin</th>\n",
       "      <th>glipizide-metformin</th>\n",
       "      <th>glimepiride-pioglitazone</th>\n",
       "      <th>metformin-rosiglitazone</th>\n",
       "      <th>metformin-pioglitazone</th>\n",
       "      <th>change</th>\n",
       "      <th>diabetesMed</th>\n",
       "      <th>readmitted</th>\n",
       "    </tr>\n",
       "  </thead>\n",
       "  <tbody>\n",
       "    <tr>\n",
       "      <td>0</td>\n",
       "      <td>2278392</td>\n",
       "      <td>8222157</td>\n",
       "      <td>Caucasian</td>\n",
       "      <td>Female</td>\n",
       "      <td>[0-10)</td>\n",
       "      <td>NaN</td>\n",
       "      <td>6</td>\n",
       "      <td>25</td>\n",
       "      <td>1</td>\n",
       "      <td>1</td>\n",
       "      <td>NaN</td>\n",
       "      <td>Pediatrics-Endocrinology</td>\n",
       "      <td>41</td>\n",
       "      <td>0</td>\n",
       "      <td>1</td>\n",
       "      <td>0</td>\n",
       "      <td>0</td>\n",
       "      <td>0</td>\n",
       "      <td>250.83</td>\n",
       "      <td>NaN</td>\n",
       "      <td>NaN</td>\n",
       "      <td>1</td>\n",
       "      <td>None</td>\n",
       "      <td>None</td>\n",
       "      <td>No</td>\n",
       "      <td>No</td>\n",
       "      <td>No</td>\n",
       "      <td>No</td>\n",
       "      <td>No</td>\n",
       "      <td>No</td>\n",
       "      <td>No</td>\n",
       "      <td>No</td>\n",
       "      <td>No</td>\n",
       "      <td>No</td>\n",
       "      <td>No</td>\n",
       "      <td>No</td>\n",
       "      <td>No</td>\n",
       "      <td>No</td>\n",
       "      <td>No</td>\n",
       "      <td>No</td>\n",
       "      <td>No</td>\n",
       "      <td>No</td>\n",
       "      <td>No</td>\n",
       "      <td>No</td>\n",
       "      <td>No</td>\n",
       "      <td>No</td>\n",
       "      <td>No</td>\n",
       "      <td>No</td>\n",
       "      <td>No</td>\n",
       "      <td>NO</td>\n",
       "    </tr>\n",
       "    <tr>\n",
       "      <td>1</td>\n",
       "      <td>149190</td>\n",
       "      <td>55629189</td>\n",
       "      <td>Caucasian</td>\n",
       "      <td>Female</td>\n",
       "      <td>[10-20)</td>\n",
       "      <td>NaN</td>\n",
       "      <td>1</td>\n",
       "      <td>1</td>\n",
       "      <td>7</td>\n",
       "      <td>3</td>\n",
       "      <td>NaN</td>\n",
       "      <td>NaN</td>\n",
       "      <td>59</td>\n",
       "      <td>0</td>\n",
       "      <td>18</td>\n",
       "      <td>0</td>\n",
       "      <td>0</td>\n",
       "      <td>0</td>\n",
       "      <td>276</td>\n",
       "      <td>250.01</td>\n",
       "      <td>255</td>\n",
       "      <td>9</td>\n",
       "      <td>None</td>\n",
       "      <td>None</td>\n",
       "      <td>No</td>\n",
       "      <td>No</td>\n",
       "      <td>No</td>\n",
       "      <td>No</td>\n",
       "      <td>No</td>\n",
       "      <td>No</td>\n",
       "      <td>No</td>\n",
       "      <td>No</td>\n",
       "      <td>No</td>\n",
       "      <td>No</td>\n",
       "      <td>No</td>\n",
       "      <td>No</td>\n",
       "      <td>No</td>\n",
       "      <td>No</td>\n",
       "      <td>No</td>\n",
       "      <td>No</td>\n",
       "      <td>No</td>\n",
       "      <td>Up</td>\n",
       "      <td>No</td>\n",
       "      <td>No</td>\n",
       "      <td>No</td>\n",
       "      <td>No</td>\n",
       "      <td>No</td>\n",
       "      <td>Ch</td>\n",
       "      <td>Yes</td>\n",
       "      <td>&gt;30</td>\n",
       "    </tr>\n",
       "    <tr>\n",
       "      <td>2</td>\n",
       "      <td>64410</td>\n",
       "      <td>86047875</td>\n",
       "      <td>AfricanAmerican</td>\n",
       "      <td>Female</td>\n",
       "      <td>[20-30)</td>\n",
       "      <td>NaN</td>\n",
       "      <td>1</td>\n",
       "      <td>1</td>\n",
       "      <td>7</td>\n",
       "      <td>2</td>\n",
       "      <td>NaN</td>\n",
       "      <td>NaN</td>\n",
       "      <td>11</td>\n",
       "      <td>5</td>\n",
       "      <td>13</td>\n",
       "      <td>2</td>\n",
       "      <td>0</td>\n",
       "      <td>1</td>\n",
       "      <td>648</td>\n",
       "      <td>250</td>\n",
       "      <td>V27</td>\n",
       "      <td>6</td>\n",
       "      <td>None</td>\n",
       "      <td>None</td>\n",
       "      <td>No</td>\n",
       "      <td>No</td>\n",
       "      <td>No</td>\n",
       "      <td>No</td>\n",
       "      <td>No</td>\n",
       "      <td>No</td>\n",
       "      <td>Steady</td>\n",
       "      <td>No</td>\n",
       "      <td>No</td>\n",
       "      <td>No</td>\n",
       "      <td>No</td>\n",
       "      <td>No</td>\n",
       "      <td>No</td>\n",
       "      <td>No</td>\n",
       "      <td>No</td>\n",
       "      <td>No</td>\n",
       "      <td>No</td>\n",
       "      <td>No</td>\n",
       "      <td>No</td>\n",
       "      <td>No</td>\n",
       "      <td>No</td>\n",
       "      <td>No</td>\n",
       "      <td>No</td>\n",
       "      <td>No</td>\n",
       "      <td>Yes</td>\n",
       "      <td>NO</td>\n",
       "    </tr>\n",
       "    <tr>\n",
       "      <td>3</td>\n",
       "      <td>500364</td>\n",
       "      <td>82442376</td>\n",
       "      <td>Caucasian</td>\n",
       "      <td>Male</td>\n",
       "      <td>[30-40)</td>\n",
       "      <td>NaN</td>\n",
       "      <td>1</td>\n",
       "      <td>1</td>\n",
       "      <td>7</td>\n",
       "      <td>2</td>\n",
       "      <td>NaN</td>\n",
       "      <td>NaN</td>\n",
       "      <td>44</td>\n",
       "      <td>1</td>\n",
       "      <td>16</td>\n",
       "      <td>0</td>\n",
       "      <td>0</td>\n",
       "      <td>0</td>\n",
       "      <td>8</td>\n",
       "      <td>250.43</td>\n",
       "      <td>403</td>\n",
       "      <td>7</td>\n",
       "      <td>None</td>\n",
       "      <td>None</td>\n",
       "      <td>No</td>\n",
       "      <td>No</td>\n",
       "      <td>No</td>\n",
       "      <td>No</td>\n",
       "      <td>No</td>\n",
       "      <td>No</td>\n",
       "      <td>No</td>\n",
       "      <td>No</td>\n",
       "      <td>No</td>\n",
       "      <td>No</td>\n",
       "      <td>No</td>\n",
       "      <td>No</td>\n",
       "      <td>No</td>\n",
       "      <td>No</td>\n",
       "      <td>No</td>\n",
       "      <td>No</td>\n",
       "      <td>No</td>\n",
       "      <td>Up</td>\n",
       "      <td>No</td>\n",
       "      <td>No</td>\n",
       "      <td>No</td>\n",
       "      <td>No</td>\n",
       "      <td>No</td>\n",
       "      <td>Ch</td>\n",
       "      <td>Yes</td>\n",
       "      <td>NO</td>\n",
       "    </tr>\n",
       "    <tr>\n",
       "      <td>4</td>\n",
       "      <td>16680</td>\n",
       "      <td>42519267</td>\n",
       "      <td>Caucasian</td>\n",
       "      <td>Male</td>\n",
       "      <td>[40-50)</td>\n",
       "      <td>NaN</td>\n",
       "      <td>1</td>\n",
       "      <td>1</td>\n",
       "      <td>7</td>\n",
       "      <td>1</td>\n",
       "      <td>NaN</td>\n",
       "      <td>NaN</td>\n",
       "      <td>51</td>\n",
       "      <td>0</td>\n",
       "      <td>8</td>\n",
       "      <td>0</td>\n",
       "      <td>0</td>\n",
       "      <td>0</td>\n",
       "      <td>197</td>\n",
       "      <td>157</td>\n",
       "      <td>250</td>\n",
       "      <td>5</td>\n",
       "      <td>None</td>\n",
       "      <td>None</td>\n",
       "      <td>No</td>\n",
       "      <td>No</td>\n",
       "      <td>No</td>\n",
       "      <td>No</td>\n",
       "      <td>No</td>\n",
       "      <td>No</td>\n",
       "      <td>Steady</td>\n",
       "      <td>No</td>\n",
       "      <td>No</td>\n",
       "      <td>No</td>\n",
       "      <td>No</td>\n",
       "      <td>No</td>\n",
       "      <td>No</td>\n",
       "      <td>No</td>\n",
       "      <td>No</td>\n",
       "      <td>No</td>\n",
       "      <td>No</td>\n",
       "      <td>Steady</td>\n",
       "      <td>No</td>\n",
       "      <td>No</td>\n",
       "      <td>No</td>\n",
       "      <td>No</td>\n",
       "      <td>No</td>\n",
       "      <td>Ch</td>\n",
       "      <td>Yes</td>\n",
       "      <td>NO</td>\n",
       "    </tr>\n",
       "  </tbody>\n",
       "</table>\n",
       "</div>"
      ],
      "text/plain": [
       "   encounter_id  patient_nbr             race  gender      age weight  \\\n",
       "0       2278392      8222157        Caucasian  Female   [0-10)    NaN   \n",
       "1        149190     55629189        Caucasian  Female  [10-20)    NaN   \n",
       "2         64410     86047875  AfricanAmerican  Female  [20-30)    NaN   \n",
       "3        500364     82442376        Caucasian    Male  [30-40)    NaN   \n",
       "4         16680     42519267        Caucasian    Male  [40-50)    NaN   \n",
       "\n",
       "   admission_type_id  discharge_disposition_id  admission_source_id  \\\n",
       "0                  6                        25                    1   \n",
       "1                  1                         1                    7   \n",
       "2                  1                         1                    7   \n",
       "3                  1                         1                    7   \n",
       "4                  1                         1                    7   \n",
       "\n",
       "   time_in_hospital payer_code         medical_specialty  num_lab_procedures  \\\n",
       "0                 1        NaN  Pediatrics-Endocrinology                  41   \n",
       "1                 3        NaN                       NaN                  59   \n",
       "2                 2        NaN                       NaN                  11   \n",
       "3                 2        NaN                       NaN                  44   \n",
       "4                 1        NaN                       NaN                  51   \n",
       "\n",
       "   num_procedures  num_medications  number_outpatient  number_emergency  \\\n",
       "0               0                1                  0                 0   \n",
       "1               0               18                  0                 0   \n",
       "2               5               13                  2                 0   \n",
       "3               1               16                  0                 0   \n",
       "4               0                8                  0                 0   \n",
       "\n",
       "   number_inpatient  diag_1  diag_2 diag_3  number_diagnoses max_glu_serum  \\\n",
       "0                 0  250.83     NaN    NaN                 1          None   \n",
       "1                 0     276  250.01    255                 9          None   \n",
       "2                 1     648     250    V27                 6          None   \n",
       "3                 0       8  250.43    403                 7          None   \n",
       "4                 0     197     157    250                 5          None   \n",
       "\n",
       "  A1Cresult metformin repaglinide nateglinide chlorpropamide glimepiride  \\\n",
       "0      None        No          No          No             No          No   \n",
       "1      None        No          No          No             No          No   \n",
       "2      None        No          No          No             No          No   \n",
       "3      None        No          No          No             No          No   \n",
       "4      None        No          No          No             No          No   \n",
       "\n",
       "  acetohexamide glipizide glyburide tolbutamide pioglitazone rosiglitazone  \\\n",
       "0            No        No        No          No           No            No   \n",
       "1            No        No        No          No           No            No   \n",
       "2            No    Steady        No          No           No            No   \n",
       "3            No        No        No          No           No            No   \n",
       "4            No    Steady        No          No           No            No   \n",
       "\n",
       "  acarbose miglitol troglitazone tolazamide examide citoglipton insulin  \\\n",
       "0       No       No           No         No      No          No      No   \n",
       "1       No       No           No         No      No          No      Up   \n",
       "2       No       No           No         No      No          No      No   \n",
       "3       No       No           No         No      No          No      Up   \n",
       "4       No       No           No         No      No          No  Steady   \n",
       "\n",
       "  glyburide-metformin glipizide-metformin glimepiride-pioglitazone  \\\n",
       "0                  No                  No                       No   \n",
       "1                  No                  No                       No   \n",
       "2                  No                  No                       No   \n",
       "3                  No                  No                       No   \n",
       "4                  No                  No                       No   \n",
       "\n",
       "  metformin-rosiglitazone metformin-pioglitazone change diabetesMed readmitted  \n",
       "0                      No                     No     No          No         NO  \n",
       "1                      No                     No     Ch         Yes        >30  \n",
       "2                      No                     No     No         Yes         NO  \n",
       "3                      No                     No     Ch         Yes         NO  \n",
       "4                      No                     No     Ch         Yes         NO  "
      ]
     },
     "execution_count": 2,
     "metadata": {},
     "output_type": "execute_result"
    }
   ],
   "source": [
    "df = pd.read_csv('./data/diabetic_data.csv', na_values='?')\n",
    "df.head()"
   ]
  },
  {
   "cell_type": "markdown",
   "metadata": {},
   "source": [
    "# Missing Values"
   ]
  },
  {
   "cell_type": "code",
   "execution_count": 3,
   "metadata": {},
   "outputs": [
    {
     "data": {
      "text/plain": [
       "<matplotlib.axes._subplots.AxesSubplot at 0x10a424e10>"
      ]
     },
     "execution_count": 3,
     "metadata": {},
     "output_type": "execute_result"
    },
    {
     "data": {
      "image/png": "[encoded data removed]",
      "text/plain": [
       "<Figure size 432x288 with 1 Axes>"
      ]
     },
     "metadata": {
      "needs_background": "light"
     },
     "output_type": "display_data"
    }
   ],
   "source": [
    "missing = round((df.isna().sum()/len(df)),2).sort_values(ascending = True)\n",
    "missing = missing[missing > 0]\n",
    "missing.plot(kind='barh')"
   ]
  },
  {
   "cell_type": "code",
   "execution_count": 4,
   "metadata": {},
   "outputs": [],
   "source": [
    "# drop weight\n",
    "drop_cols = ['encounter_id', 'weight','admission_type_id',\n",
    " 'discharge_disposition_id',\n",
    " 'admission_source_id', 'diag_1','diag_2','diag_3', 'examide','citoglipton']\n",
    "df.drop(drop_cols, axis=1, inplace = True)\n",
    "\n",
    "df.drop_duplicates('patient_nbr', keep = 'first')\n",
    "df.drop('patient_nbr', axis = 1, inplace = True)"
   ]
  },
  {
   "cell_type": "code",
   "execution_count": 5,
   "metadata": {},
   "outputs": [],
   "source": [
    "# payer code - mode\n",
    "df.loc[df['payer_code'].isnull(), 'payer_code'] = df['payer_code'].value_counts().index[0]"
   ]
  },
  {
   "cell_type": "code",
   "execution_count": 6,
   "metadata": {},
   "outputs": [
    {
     "name": "stdout",
     "output_type": "stream",
     "text": [
      "Number of unique medical specialty 73\n"
     ]
    }
   ],
   "source": [
    "# drop medical specialty column\n",
    "print('Number of unique medical specialty',str(len(df['medical_specialty'].unique())))\n",
    "df.drop('medical_specialty', axis=1, inplace=True)"
   ]
  },
  {
   "cell_type": "code",
   "execution_count": 7,
   "metadata": {
    "scrolled": true
   },
   "outputs": [
    {
     "name": "stdout",
     "output_type": "stream",
     "text": [
      "Number of missing values:  0\n"
     ]
    }
   ],
   "source": [
    "# remaining missing values\n",
    "df.dropna(axis=0, inplace=True)\n",
    "print('Number of missing values: ',str((df.isna().sum() > 0).sum()))"
   ]
  },
  {
   "cell_type": "code",
   "execution_count": 8,
   "metadata": {},
   "outputs": [],
   "source": [
    "## gender\n",
    "df = df[df['gender']!='Unknown/Invalid']"
   ]
  },
  {
   "cell_type": "markdown",
   "metadata": {},
   "source": [
    "# Feature Engineering"
   ]
  },
  {
   "cell_type": "code",
   "execution_count": 9,
   "metadata": {},
   "outputs": [],
   "source": [
    "df['age'] = df['age'].map({'[10-20)':1, '[20-30)':2, '[30-40)':3, '[40-50)':4, '[50-60)':5, '[60-70)':6,\n",
    "                           '[70-80)':7, '[80-90)':8, '[90-100)':9, '[0-10)':0})"
   ]
  },
  {
   "cell_type": "code",
   "execution_count": 10,
   "metadata": {},
   "outputs": [],
   "source": [
    "df['max_glu_serum'] = df['max_glu_serum'].map({'None':0, 'Norm':100, '>200':200, '>300':300})"
   ]
  },
  {
   "cell_type": "code",
   "execution_count": 11,
   "metadata": {},
   "outputs": [],
   "source": [
    "df['A1Cresult']= df.A1Cresult.map({'None':0,'Norm':3,'>7':7,'>8':8})"
   ]
  },
  {
   "cell_type": "code",
   "execution_count": 12,
   "metadata": {},
   "outputs": [],
   "source": [
    "medication = ['metformin', 'repaglinide', 'nateglinide', 'chlorpropamide',\n",
    "       'glimepiride', 'acetohexamide', 'glipizide', 'glyburide', 'tolbutamide',\n",
    "       'pioglitazone', 'rosiglitazone', 'acarbose', 'miglitol', 'troglitazone',\n",
    "       'tolazamide', 'insulin',\n",
    "       'glyburide-metformin', 'glipizide-metformin',\n",
    "       'glimepiride-pioglitazone', 'metformin-rosiglitazone',\n",
    "       'metformin-pioglitazone']\n",
    "\n",
    "for med in medication:\n",
    "    df[med] = df[med].map({'Up':1, 'Down':1, 'Steady':1, 'No':0})"
   ]
  },
  {
   "cell_type": "code",
   "execution_count": 13,
   "metadata": {},
   "outputs": [],
   "source": [
    "df['change'] = df['change'].map({'Ch':1,'No':0})"
   ]
  },
  {
   "cell_type": "code",
   "execution_count": 14,
   "metadata": {
    "scrolled": true
   },
   "outputs": [],
   "source": [
    "df['diabetesMed'] = df.diabetesMed.map({'Yes':1, 'No':0})"
   ]
  },
  {
   "cell_type": "code",
   "execution_count": 15,
   "metadata": {},
   "outputs": [],
   "source": [
    "df['readmitted'] = df.readmitted.map({'NO':0, '>30':0, '<30':1})"
   ]
  },
  {
   "cell_type": "markdown",
   "metadata": {},
   "source": [
    "# Preprocessing Numeric and Categorical Features"
   ]
  },
  {
   "cell_type": "markdown",
   "metadata": {},
   "source": [
    "## Numeric Features"
   ]
  },
  {
   "cell_type": "code",
   "execution_count": 16,
   "metadata": {},
   "outputs": [],
   "source": [
    "categorical = []\n",
    "continuous = []\n",
    "\n",
    "for col in df.columns:\n",
    "    if df[col].dtype == 'O':\n",
    "        categorical.append(col)\n",
    "    elif col != 'readmitted':\n",
    "        continuous.append(col)\n",
    "        \n",
    "\n"
   ]
  },
  {
   "cell_type": "code",
   "execution_count": 17,
   "metadata": {},
   "outputs": [
    {
     "name": "stdout",
     "output_type": "stream",
     "text": [
      "['race', 'gender', 'payer_code']\n",
      "['age', 'time_in_hospital', 'num_lab_procedures', 'num_procedures', 'num_medications', 'number_outpatient', 'number_emergency', 'number_inpatient', 'number_diagnoses', 'max_glu_serum', 'A1Cresult', 'metformin', 'repaglinide', 'nateglinide', 'chlorpropamide', 'glimepiride', 'acetohexamide', 'glipizide', 'glyburide', 'tolbutamide', 'pioglitazone', 'rosiglitazone', 'acarbose', 'miglitol', 'troglitazone', 'tolazamide', 'insulin', 'glyburide-metformin', 'glipizide-metformin', 'glimepiride-pioglitazone', 'metformin-rosiglitazone', 'metformin-pioglitazone', 'change', 'diabetesMed']\n"
     ]
    }
   ],
   "source": [
    "print(categorical, end = '\\n')\n",
    "print(continuous)"
   ]
  },
  {
   "cell_type": "markdown",
   "metadata": {},
   "source": [
    "## Encoding / Scaling"
   ]
  },
  {
   "cell_type": "code",
   "execution_count": 18,
   "metadata": {},
   "outputs": [],
   "source": [
    "X = df.drop('readmitted', axis = 1)\n",
    "y = df['readmitted']"
   ]
  },
  {
   "cell_type": "code",
   "execution_count": 19,
   "metadata": {},
   "outputs": [],
   "source": [
    "X = pd.get_dummies(X, columns = categorical)"
   ]
  },
  {
   "cell_type": "code",
   "execution_count": 20,
   "metadata": {},
   "outputs": [],
   "source": [
    "from sklearn.preprocessing import StandardScaler\n",
    "\n",
    "scaler = StandardScaler()\n",
    "X_scaled = pd.DataFrame(scaler.fit_transform(X), columns = X.columns)"
   ]
  },
  {
   "cell_type": "markdown",
   "metadata": {},
   "source": [
    "## Train Test Split / SMOTE"
   ]
  },
  {
   "cell_type": "code",
   "execution_count": 21,
   "metadata": {},
   "outputs": [],
   "source": [
    "from sklearn.model_selection import train_test_split\n",
    "\n",
    "X_train, X_test, y_train, y_test = train_test_split(X_scaled, y, test_size = 0.3, stratify = y, random_state = 42)"
   ]
  },
  {
   "cell_type": "code",
   "execution_count": 22,
   "metadata": {},
   "outputs": [
    {
     "data": {
      "text/html": [
       "<div>\n",
       "<style scoped>\n",
       "    .dataframe tbody tr th:only-of-type {\n",
       "        vertical-align: middle;\n",
       "    }\n",
       "\n",
       "    .dataframe tbody tr th {\n",
       "        vertical-align: top;\n",
       "    }\n",
       "\n",
       "    .dataframe thead th {\n",
       "        text-align: right;\n",
       "    }\n",
       "</style>\n",
       "<table border=\"1\" class=\"dataframe\">\n",
       "  <thead>\n",
       "    <tr style=\"text-align: right;\">\n",
       "      <th></th>\n",
       "      <th>age</th>\n",
       "      <th>time_in_hospital</th>\n",
       "      <th>num_lab_procedures</th>\n",
       "      <th>num_procedures</th>\n",
       "      <th>num_medications</th>\n",
       "      <th>number_outpatient</th>\n",
       "      <th>number_emergency</th>\n",
       "      <th>number_inpatient</th>\n",
       "      <th>number_diagnoses</th>\n",
       "      <th>max_glu_serum</th>\n",
       "      <th>A1Cresult</th>\n",
       "      <th>metformin</th>\n",
       "      <th>repaglinide</th>\n",
       "      <th>nateglinide</th>\n",
       "      <th>chlorpropamide</th>\n",
       "      <th>glimepiride</th>\n",
       "      <th>acetohexamide</th>\n",
       "      <th>glipizide</th>\n",
       "      <th>glyburide</th>\n",
       "      <th>tolbutamide</th>\n",
       "      <th>pioglitazone</th>\n",
       "      <th>rosiglitazone</th>\n",
       "      <th>acarbose</th>\n",
       "      <th>miglitol</th>\n",
       "      <th>troglitazone</th>\n",
       "      <th>tolazamide</th>\n",
       "      <th>insulin</th>\n",
       "      <th>glyburide-metformin</th>\n",
       "      <th>glipizide-metformin</th>\n",
       "      <th>glimepiride-pioglitazone</th>\n",
       "      <th>metformin-rosiglitazone</th>\n",
       "      <th>metformin-pioglitazone</th>\n",
       "      <th>change</th>\n",
       "      <th>diabetesMed</th>\n",
       "      <th>race_AfricanAmerican</th>\n",
       "      <th>race_Asian</th>\n",
       "      <th>race_Caucasian</th>\n",
       "      <th>race_Hispanic</th>\n",
       "      <th>race_Other</th>\n",
       "      <th>gender_Female</th>\n",
       "      <th>gender_Male</th>\n",
       "      <th>payer_code_BC</th>\n",
       "      <th>payer_code_CH</th>\n",
       "      <th>payer_code_CM</th>\n",
       "      <th>payer_code_CP</th>\n",
       "      <th>payer_code_DM</th>\n",
       "      <th>payer_code_HM</th>\n",
       "      <th>payer_code_MC</th>\n",
       "      <th>payer_code_MD</th>\n",
       "      <th>payer_code_MP</th>\n",
       "      <th>payer_code_OG</th>\n",
       "      <th>payer_code_OT</th>\n",
       "      <th>payer_code_PO</th>\n",
       "      <th>payer_code_SI</th>\n",
       "      <th>payer_code_SP</th>\n",
       "      <th>payer_code_UN</th>\n",
       "      <th>payer_code_WC</th>\n",
       "    </tr>\n",
       "  </thead>\n",
       "  <tbody>\n",
       "    <tr>\n",
       "      <td>94614</td>\n",
       "      <td>-0.059914</td>\n",
       "      <td>0.201391</td>\n",
       "      <td>1.011756</td>\n",
       "      <td>-0.786851</td>\n",
       "      <td>0.119887</td>\n",
       "      <td>-0.292416</td>\n",
       "      <td>-0.214200</td>\n",
       "      <td>0.280717</td>\n",
       "      <td>0.810344</td>\n",
       "      <td>-0.213874</td>\n",
       "      <td>-0.418572</td>\n",
       "      <td>2.024022</td>\n",
       "      <td>-0.124932</td>\n",
       "      <td>-0.083933</td>\n",
       "      <td>-0.029242</td>\n",
       "      <td>4.331744</td>\n",
       "      <td>-0.00317</td>\n",
       "      <td>-0.377313</td>\n",
       "      <td>-0.341277</td>\n",
       "      <td>-0.014872</td>\n",
       "      <td>-0.278806</td>\n",
       "      <td>-0.258393</td>\n",
       "      <td>-0.055178</td>\n",
       "      <td>-0.019547</td>\n",
       "      <td>-0.005491</td>\n",
       "      <td>-0.019803</td>\n",
       "      <td>0.936650</td>\n",
       "      <td>-0.082956</td>\n",
       "      <td>-0.011432</td>\n",
       "      <td>-0.00317</td>\n",
       "      <td>0.0</td>\n",
       "      <td>-0.00317</td>\n",
       "      <td>1.080328</td>\n",
       "      <td>0.548363</td>\n",
       "      <td>-0.489164</td>\n",
       "      <td>-0.080526</td>\n",
       "      <td>0.554439</td>\n",
       "      <td>-0.144575</td>\n",
       "      <td>-0.123932</td>\n",
       "      <td>0.925775</td>\n",
       "      <td>-0.925775</td>\n",
       "      <td>-0.218689</td>\n",
       "      <td>-0.038072</td>\n",
       "      <td>-0.140240</td>\n",
       "      <td>-0.159324</td>\n",
       "      <td>-0.073459</td>\n",
       "      <td>-0.256194</td>\n",
       "      <td>-1.590940</td>\n",
       "      <td>-0.189075</td>\n",
       "      <td>-0.02783</td>\n",
       "      <td>9.801294</td>\n",
       "      <td>-0.030915</td>\n",
       "      <td>-0.077171</td>\n",
       "      <td>-0.023518</td>\n",
       "      <td>-0.224233</td>\n",
       "      <td>-0.153284</td>\n",
       "      <td>-0.035468</td>\n",
       "    </tr>\n",
       "    <tr>\n",
       "      <td>51782</td>\n",
       "      <td>1.194505</td>\n",
       "      <td>0.536180</td>\n",
       "      <td>0.910210</td>\n",
       "      <td>0.974046</td>\n",
       "      <td>0.366200</td>\n",
       "      <td>1.274002</td>\n",
       "      <td>-0.214200</td>\n",
       "      <td>-0.505840</td>\n",
       "      <td>0.810344</td>\n",
       "      <td>-0.213874</td>\n",
       "      <td>-0.418572</td>\n",
       "      <td>-0.494066</td>\n",
       "      <td>-0.124932</td>\n",
       "      <td>-0.083933</td>\n",
       "      <td>-0.029242</td>\n",
       "      <td>-0.230854</td>\n",
       "      <td>-0.00317</td>\n",
       "      <td>-0.377313</td>\n",
       "      <td>2.930170</td>\n",
       "      <td>-0.014872</td>\n",
       "      <td>-0.278806</td>\n",
       "      <td>-0.258393</td>\n",
       "      <td>-0.055178</td>\n",
       "      <td>-0.019547</td>\n",
       "      <td>-0.005491</td>\n",
       "      <td>-0.019803</td>\n",
       "      <td>-1.067634</td>\n",
       "      <td>-0.082956</td>\n",
       "      <td>-0.011432</td>\n",
       "      <td>-0.00317</td>\n",
       "      <td>0.0</td>\n",
       "      <td>-0.00317</td>\n",
       "      <td>-0.925644</td>\n",
       "      <td>0.548363</td>\n",
       "      <td>-0.489164</td>\n",
       "      <td>-0.080526</td>\n",
       "      <td>0.554439</td>\n",
       "      <td>-0.144575</td>\n",
       "      <td>-0.123932</td>\n",
       "      <td>-1.080176</td>\n",
       "      <td>1.080176</td>\n",
       "      <td>-0.218689</td>\n",
       "      <td>-0.038072</td>\n",
       "      <td>-0.140240</td>\n",
       "      <td>-0.159324</td>\n",
       "      <td>-0.073459</td>\n",
       "      <td>-0.256194</td>\n",
       "      <td>0.628559</td>\n",
       "      <td>-0.189075</td>\n",
       "      <td>-0.02783</td>\n",
       "      <td>-0.102027</td>\n",
       "      <td>-0.030915</td>\n",
       "      <td>-0.077171</td>\n",
       "      <td>-0.023518</td>\n",
       "      <td>-0.224233</td>\n",
       "      <td>-0.153284</td>\n",
       "      <td>-0.035468</td>\n",
       "    </tr>\n",
       "    <tr>\n",
       "      <td>55080</td>\n",
       "      <td>-0.687124</td>\n",
       "      <td>-0.468187</td>\n",
       "      <td>0.097841</td>\n",
       "      <td>1.561012</td>\n",
       "      <td>0.735668</td>\n",
       "      <td>-0.292416</td>\n",
       "      <td>-0.214200</td>\n",
       "      <td>-0.505840</td>\n",
       "      <td>-0.747262</td>\n",
       "      <td>-0.213874</td>\n",
       "      <td>-0.418572</td>\n",
       "      <td>-0.494066</td>\n",
       "      <td>-0.124932</td>\n",
       "      <td>-0.083933</td>\n",
       "      <td>-0.029242</td>\n",
       "      <td>-0.230854</td>\n",
       "      <td>-0.00317</td>\n",
       "      <td>-0.377313</td>\n",
       "      <td>-0.341277</td>\n",
       "      <td>-0.014872</td>\n",
       "      <td>-0.278806</td>\n",
       "      <td>-0.258393</td>\n",
       "      <td>-0.055178</td>\n",
       "      <td>-0.019547</td>\n",
       "      <td>-0.005491</td>\n",
       "      <td>-0.019803</td>\n",
       "      <td>0.936650</td>\n",
       "      <td>-0.082956</td>\n",
       "      <td>-0.011432</td>\n",
       "      <td>-0.00317</td>\n",
       "      <td>0.0</td>\n",
       "      <td>-0.00317</td>\n",
       "      <td>-0.925644</td>\n",
       "      <td>0.548363</td>\n",
       "      <td>-0.489164</td>\n",
       "      <td>-0.080526</td>\n",
       "      <td>0.554439</td>\n",
       "      <td>-0.144575</td>\n",
       "      <td>-0.123932</td>\n",
       "      <td>0.925775</td>\n",
       "      <td>-0.925775</td>\n",
       "      <td>-0.218689</td>\n",
       "      <td>-0.038072</td>\n",
       "      <td>-0.140240</td>\n",
       "      <td>-0.159324</td>\n",
       "      <td>-0.073459</td>\n",
       "      <td>-0.256194</td>\n",
       "      <td>-1.590940</td>\n",
       "      <td>5.288915</td>\n",
       "      <td>-0.02783</td>\n",
       "      <td>-0.102027</td>\n",
       "      <td>-0.030915</td>\n",
       "      <td>-0.077171</td>\n",
       "      <td>-0.023518</td>\n",
       "      <td>-0.224233</td>\n",
       "      <td>-0.153284</td>\n",
       "      <td>-0.035468</td>\n",
       "    </tr>\n",
       "    <tr>\n",
       "      <td>80378</td>\n",
       "      <td>0.567295</td>\n",
       "      <td>-1.137765</td>\n",
       "      <td>-0.359116</td>\n",
       "      <td>-0.786851</td>\n",
       "      <td>-0.742207</td>\n",
       "      <td>-0.292416</td>\n",
       "      <td>0.849657</td>\n",
       "      <td>0.280717</td>\n",
       "      <td>-0.747262</td>\n",
       "      <td>-0.213874</td>\n",
       "      <td>-0.418572</td>\n",
       "      <td>-0.494066</td>\n",
       "      <td>-0.124932</td>\n",
       "      <td>-0.083933</td>\n",
       "      <td>-0.029242</td>\n",
       "      <td>-0.230854</td>\n",
       "      <td>-0.00317</td>\n",
       "      <td>-0.377313</td>\n",
       "      <td>-0.341277</td>\n",
       "      <td>-0.014872</td>\n",
       "      <td>-0.278806</td>\n",
       "      <td>-0.258393</td>\n",
       "      <td>-0.055178</td>\n",
       "      <td>-0.019547</td>\n",
       "      <td>-0.005491</td>\n",
       "      <td>-0.019803</td>\n",
       "      <td>-1.067634</td>\n",
       "      <td>-0.082956</td>\n",
       "      <td>-0.011432</td>\n",
       "      <td>-0.00317</td>\n",
       "      <td>0.0</td>\n",
       "      <td>-0.00317</td>\n",
       "      <td>-0.925644</td>\n",
       "      <td>-1.823609</td>\n",
       "      <td>2.044304</td>\n",
       "      <td>-0.080526</td>\n",
       "      <td>-1.803626</td>\n",
       "      <td>-0.144575</td>\n",
       "      <td>-0.123932</td>\n",
       "      <td>0.925775</td>\n",
       "      <td>-0.925775</td>\n",
       "      <td>-0.218689</td>\n",
       "      <td>-0.038072</td>\n",
       "      <td>-0.140240</td>\n",
       "      <td>-0.159324</td>\n",
       "      <td>-0.073459</td>\n",
       "      <td>-0.256194</td>\n",
       "      <td>0.628559</td>\n",
       "      <td>-0.189075</td>\n",
       "      <td>-0.02783</td>\n",
       "      <td>-0.102027</td>\n",
       "      <td>-0.030915</td>\n",
       "      <td>-0.077171</td>\n",
       "      <td>-0.023518</td>\n",
       "      <td>-0.224233</td>\n",
       "      <td>-0.153284</td>\n",
       "      <td>-0.035468</td>\n",
       "    </tr>\n",
       "    <tr>\n",
       "      <td>71486</td>\n",
       "      <td>-0.059914</td>\n",
       "      <td>0.201391</td>\n",
       "      <td>1.417940</td>\n",
       "      <td>-0.199885</td>\n",
       "      <td>0.858824</td>\n",
       "      <td>2.840419</td>\n",
       "      <td>1.913513</td>\n",
       "      <td>-0.505840</td>\n",
       "      <td>0.810344</td>\n",
       "      <td>-0.213874</td>\n",
       "      <td>-0.418572</td>\n",
       "      <td>2.024022</td>\n",
       "      <td>-0.124932</td>\n",
       "      <td>-0.083933</td>\n",
       "      <td>-0.029242</td>\n",
       "      <td>-0.230854</td>\n",
       "      <td>-0.00317</td>\n",
       "      <td>-0.377313</td>\n",
       "      <td>-0.341277</td>\n",
       "      <td>-0.014872</td>\n",
       "      <td>-0.278806</td>\n",
       "      <td>-0.258393</td>\n",
       "      <td>18.123016</td>\n",
       "      <td>-0.019547</td>\n",
       "      <td>-0.005491</td>\n",
       "      <td>-0.019803</td>\n",
       "      <td>0.936650</td>\n",
       "      <td>-0.082956</td>\n",
       "      <td>-0.011432</td>\n",
       "      <td>-0.00317</td>\n",
       "      <td>0.0</td>\n",
       "      <td>-0.00317</td>\n",
       "      <td>1.080328</td>\n",
       "      <td>0.548363</td>\n",
       "      <td>-0.489164</td>\n",
       "      <td>-0.080526</td>\n",
       "      <td>0.554439</td>\n",
       "      <td>-0.144575</td>\n",
       "      <td>-0.123932</td>\n",
       "      <td>-1.080176</td>\n",
       "      <td>1.080176</td>\n",
       "      <td>-0.218689</td>\n",
       "      <td>-0.038072</td>\n",
       "      <td>7.130621</td>\n",
       "      <td>-0.159324</td>\n",
       "      <td>-0.073459</td>\n",
       "      <td>-0.256194</td>\n",
       "      <td>-1.590940</td>\n",
       "      <td>-0.189075</td>\n",
       "      <td>-0.02783</td>\n",
       "      <td>-0.102027</td>\n",
       "      <td>-0.030915</td>\n",
       "      <td>-0.077171</td>\n",
       "      <td>-0.023518</td>\n",
       "      <td>-0.224233</td>\n",
       "      <td>-0.153284</td>\n",
       "      <td>-0.035468</td>\n",
       "    </tr>\n",
       "    <tr>\n",
       "      <td>...</td>\n",
       "      <td>...</td>\n",
       "      <td>...</td>\n",
       "      <td>...</td>\n",
       "      <td>...</td>\n",
       "      <td>...</td>\n",
       "      <td>...</td>\n",
       "      <td>...</td>\n",
       "      <td>...</td>\n",
       "      <td>...</td>\n",
       "      <td>...</td>\n",
       "      <td>...</td>\n",
       "      <td>...</td>\n",
       "      <td>...</td>\n",
       "      <td>...</td>\n",
       "      <td>...</td>\n",
       "      <td>...</td>\n",
       "      <td>...</td>\n",
       "      <td>...</td>\n",
       "      <td>...</td>\n",
       "      <td>...</td>\n",
       "      <td>...</td>\n",
       "      <td>...</td>\n",
       "      <td>...</td>\n",
       "      <td>...</td>\n",
       "      <td>...</td>\n",
       "      <td>...</td>\n",
       "      <td>...</td>\n",
       "      <td>...</td>\n",
       "      <td>...</td>\n",
       "      <td>...</td>\n",
       "      <td>...</td>\n",
       "      <td>...</td>\n",
       "      <td>...</td>\n",
       "      <td>...</td>\n",
       "      <td>...</td>\n",
       "      <td>...</td>\n",
       "      <td>...</td>\n",
       "      <td>...</td>\n",
       "      <td>...</td>\n",
       "      <td>...</td>\n",
       "      <td>...</td>\n",
       "      <td>...</td>\n",
       "      <td>...</td>\n",
       "      <td>...</td>\n",
       "      <td>...</td>\n",
       "      <td>...</td>\n",
       "      <td>...</td>\n",
       "      <td>...</td>\n",
       "      <td>...</td>\n",
       "      <td>...</td>\n",
       "      <td>...</td>\n",
       "      <td>...</td>\n",
       "      <td>...</td>\n",
       "      <td>...</td>\n",
       "      <td>...</td>\n",
       "      <td>...</td>\n",
       "      <td>...</td>\n",
       "    </tr>\n",
       "    <tr>\n",
       "      <td>54780</td>\n",
       "      <td>1.194505</td>\n",
       "      <td>1.540546</td>\n",
       "      <td>1.468714</td>\n",
       "      <td>-0.786851</td>\n",
       "      <td>-0.495894</td>\n",
       "      <td>-0.292416</td>\n",
       "      <td>-0.214200</td>\n",
       "      <td>0.280717</td>\n",
       "      <td>0.810344</td>\n",
       "      <td>-0.213874</td>\n",
       "      <td>-0.418572</td>\n",
       "      <td>-0.494066</td>\n",
       "      <td>-0.124932</td>\n",
       "      <td>-0.083933</td>\n",
       "      <td>-0.029242</td>\n",
       "      <td>-0.230854</td>\n",
       "      <td>-0.00317</td>\n",
       "      <td>-0.377313</td>\n",
       "      <td>-0.341277</td>\n",
       "      <td>-0.014872</td>\n",
       "      <td>-0.278806</td>\n",
       "      <td>-0.258393</td>\n",
       "      <td>-0.055178</td>\n",
       "      <td>-0.019547</td>\n",
       "      <td>-0.005491</td>\n",
       "      <td>-0.019803</td>\n",
       "      <td>-1.067634</td>\n",
       "      <td>-0.082956</td>\n",
       "      <td>-0.011432</td>\n",
       "      <td>-0.00317</td>\n",
       "      <td>0.0</td>\n",
       "      <td>-0.00317</td>\n",
       "      <td>-0.925644</td>\n",
       "      <td>-1.823609</td>\n",
       "      <td>-0.489164</td>\n",
       "      <td>-0.080526</td>\n",
       "      <td>0.554439</td>\n",
       "      <td>-0.144575</td>\n",
       "      <td>-0.123932</td>\n",
       "      <td>0.925775</td>\n",
       "      <td>-0.925775</td>\n",
       "      <td>-0.218689</td>\n",
       "      <td>-0.038072</td>\n",
       "      <td>-0.140240</td>\n",
       "      <td>-0.159324</td>\n",
       "      <td>-0.073459</td>\n",
       "      <td>-0.256194</td>\n",
       "      <td>0.628559</td>\n",
       "      <td>-0.189075</td>\n",
       "      <td>-0.02783</td>\n",
       "      <td>-0.102027</td>\n",
       "      <td>-0.030915</td>\n",
       "      <td>-0.077171</td>\n",
       "      <td>-0.023518</td>\n",
       "      <td>-0.224233</td>\n",
       "      <td>-0.153284</td>\n",
       "      <td>-0.035468</td>\n",
       "    </tr>\n",
       "    <tr>\n",
       "      <td>79395</td>\n",
       "      <td>-1.314334</td>\n",
       "      <td>-0.133398</td>\n",
       "      <td>-0.054478</td>\n",
       "      <td>2.147977</td>\n",
       "      <td>0.858824</td>\n",
       "      <td>-0.292416</td>\n",
       "      <td>0.849657</td>\n",
       "      <td>-0.505840</td>\n",
       "      <td>0.810344</td>\n",
       "      <td>-0.213874</td>\n",
       "      <td>-0.418572</td>\n",
       "      <td>-0.494066</td>\n",
       "      <td>-0.124932</td>\n",
       "      <td>-0.083933</td>\n",
       "      <td>-0.029242</td>\n",
       "      <td>-0.230854</td>\n",
       "      <td>-0.00317</td>\n",
       "      <td>-0.377313</td>\n",
       "      <td>-0.341277</td>\n",
       "      <td>-0.014872</td>\n",
       "      <td>-0.278806</td>\n",
       "      <td>-0.258393</td>\n",
       "      <td>-0.055178</td>\n",
       "      <td>-0.019547</td>\n",
       "      <td>-0.005491</td>\n",
       "      <td>-0.019803</td>\n",
       "      <td>0.936650</td>\n",
       "      <td>-0.082956</td>\n",
       "      <td>-0.011432</td>\n",
       "      <td>-0.00317</td>\n",
       "      <td>0.0</td>\n",
       "      <td>-0.00317</td>\n",
       "      <td>1.080328</td>\n",
       "      <td>0.548363</td>\n",
       "      <td>-0.489164</td>\n",
       "      <td>-0.080526</td>\n",
       "      <td>0.554439</td>\n",
       "      <td>-0.144575</td>\n",
       "      <td>-0.123932</td>\n",
       "      <td>0.925775</td>\n",
       "      <td>-0.925775</td>\n",
       "      <td>-0.218689</td>\n",
       "      <td>-0.038072</td>\n",
       "      <td>-0.140240</td>\n",
       "      <td>6.276515</td>\n",
       "      <td>-0.073459</td>\n",
       "      <td>-0.256194</td>\n",
       "      <td>-1.590940</td>\n",
       "      <td>-0.189075</td>\n",
       "      <td>-0.02783</td>\n",
       "      <td>-0.102027</td>\n",
       "      <td>-0.030915</td>\n",
       "      <td>-0.077171</td>\n",
       "      <td>-0.023518</td>\n",
       "      <td>-0.224233</td>\n",
       "      <td>-0.153284</td>\n",
       "      <td>-0.035468</td>\n",
       "    </tr>\n",
       "    <tr>\n",
       "      <td>89888</td>\n",
       "      <td>-1.314334</td>\n",
       "      <td>-0.802976</td>\n",
       "      <td>-1.222258</td>\n",
       "      <td>0.974046</td>\n",
       "      <td>1.720918</td>\n",
       "      <td>-0.292416</td>\n",
       "      <td>-0.214200</td>\n",
       "      <td>-0.505840</td>\n",
       "      <td>0.810344</td>\n",
       "      <td>-0.213874</td>\n",
       "      <td>-0.418572</td>\n",
       "      <td>2.024022</td>\n",
       "      <td>-0.124932</td>\n",
       "      <td>-0.083933</td>\n",
       "      <td>-0.029242</td>\n",
       "      <td>-0.230854</td>\n",
       "      <td>-0.00317</td>\n",
       "      <td>-0.377313</td>\n",
       "      <td>-0.341277</td>\n",
       "      <td>-0.014872</td>\n",
       "      <td>-0.278806</td>\n",
       "      <td>-0.258393</td>\n",
       "      <td>-0.055178</td>\n",
       "      <td>-0.019547</td>\n",
       "      <td>-0.005491</td>\n",
       "      <td>-0.019803</td>\n",
       "      <td>0.936650</td>\n",
       "      <td>-0.082956</td>\n",
       "      <td>-0.011432</td>\n",
       "      <td>-0.00317</td>\n",
       "      <td>0.0</td>\n",
       "      <td>-0.00317</td>\n",
       "      <td>1.080328</td>\n",
       "      <td>0.548363</td>\n",
       "      <td>-0.489164</td>\n",
       "      <td>-0.080526</td>\n",
       "      <td>0.554439</td>\n",
       "      <td>-0.144575</td>\n",
       "      <td>-0.123932</td>\n",
       "      <td>0.925775</td>\n",
       "      <td>-0.925775</td>\n",
       "      <td>-0.218689</td>\n",
       "      <td>-0.038072</td>\n",
       "      <td>-0.140240</td>\n",
       "      <td>-0.159324</td>\n",
       "      <td>-0.073459</td>\n",
       "      <td>3.903286</td>\n",
       "      <td>-1.590940</td>\n",
       "      <td>-0.189075</td>\n",
       "      <td>-0.02783</td>\n",
       "      <td>-0.102027</td>\n",
       "      <td>-0.030915</td>\n",
       "      <td>-0.077171</td>\n",
       "      <td>-0.023518</td>\n",
       "      <td>-0.224233</td>\n",
       "      <td>-0.153284</td>\n",
       "      <td>-0.035468</td>\n",
       "    </tr>\n",
       "    <tr>\n",
       "      <td>46534</td>\n",
       "      <td>-2.568753</td>\n",
       "      <td>0.536180</td>\n",
       "      <td>-1.679216</td>\n",
       "      <td>-0.199885</td>\n",
       "      <td>-0.988519</td>\n",
       "      <td>-0.292416</td>\n",
       "      <td>-0.214200</td>\n",
       "      <td>1.853831</td>\n",
       "      <td>-0.228060</td>\n",
       "      <td>-0.213874</td>\n",
       "      <td>-0.418572</td>\n",
       "      <td>-0.494066</td>\n",
       "      <td>-0.124932</td>\n",
       "      <td>-0.083933</td>\n",
       "      <td>-0.029242</td>\n",
       "      <td>-0.230854</td>\n",
       "      <td>-0.00317</td>\n",
       "      <td>-0.377313</td>\n",
       "      <td>-0.341277</td>\n",
       "      <td>-0.014872</td>\n",
       "      <td>-0.278806</td>\n",
       "      <td>-0.258393</td>\n",
       "      <td>-0.055178</td>\n",
       "      <td>-0.019547</td>\n",
       "      <td>-0.005491</td>\n",
       "      <td>-0.019803</td>\n",
       "      <td>0.936650</td>\n",
       "      <td>-0.082956</td>\n",
       "      <td>-0.011432</td>\n",
       "      <td>-0.00317</td>\n",
       "      <td>0.0</td>\n",
       "      <td>-0.00317</td>\n",
       "      <td>-0.925644</td>\n",
       "      <td>0.548363</td>\n",
       "      <td>2.044304</td>\n",
       "      <td>-0.080526</td>\n",
       "      <td>-1.803626</td>\n",
       "      <td>-0.144575</td>\n",
       "      <td>-0.123932</td>\n",
       "      <td>0.925775</td>\n",
       "      <td>-0.925775</td>\n",
       "      <td>-0.218689</td>\n",
       "      <td>-0.038072</td>\n",
       "      <td>-0.140240</td>\n",
       "      <td>-0.159324</td>\n",
       "      <td>-0.073459</td>\n",
       "      <td>-0.256194</td>\n",
       "      <td>0.628559</td>\n",
       "      <td>-0.189075</td>\n",
       "      <td>-0.02783</td>\n",
       "      <td>-0.102027</td>\n",
       "      <td>-0.030915</td>\n",
       "      <td>-0.077171</td>\n",
       "      <td>-0.023518</td>\n",
       "      <td>-0.224233</td>\n",
       "      <td>-0.153284</td>\n",
       "      <td>-0.035468</td>\n",
       "    </tr>\n",
       "    <tr>\n",
       "      <td>15647</td>\n",
       "      <td>-1.941543</td>\n",
       "      <td>-0.133398</td>\n",
       "      <td>0.960983</td>\n",
       "      <td>-0.786851</td>\n",
       "      <td>0.489356</td>\n",
       "      <td>-0.292416</td>\n",
       "      <td>-0.214200</td>\n",
       "      <td>1.853831</td>\n",
       "      <td>0.291142</td>\n",
       "      <td>-0.213874</td>\n",
       "      <td>-0.418572</td>\n",
       "      <td>-0.494066</td>\n",
       "      <td>-0.124932</td>\n",
       "      <td>-0.083933</td>\n",
       "      <td>-0.029242</td>\n",
       "      <td>-0.230854</td>\n",
       "      <td>-0.00317</td>\n",
       "      <td>-0.377313</td>\n",
       "      <td>-0.341277</td>\n",
       "      <td>-0.014872</td>\n",
       "      <td>-0.278806</td>\n",
       "      <td>-0.258393</td>\n",
       "      <td>-0.055178</td>\n",
       "      <td>-0.019547</td>\n",
       "      <td>-0.005491</td>\n",
       "      <td>-0.019803</td>\n",
       "      <td>0.936650</td>\n",
       "      <td>-0.082956</td>\n",
       "      <td>-0.011432</td>\n",
       "      <td>-0.00317</td>\n",
       "      <td>0.0</td>\n",
       "      <td>-0.00317</td>\n",
       "      <td>-0.925644</td>\n",
       "      <td>0.548363</td>\n",
       "      <td>2.044304</td>\n",
       "      <td>-0.080526</td>\n",
       "      <td>-1.803626</td>\n",
       "      <td>-0.144575</td>\n",
       "      <td>-0.123932</td>\n",
       "      <td>-1.080176</td>\n",
       "      <td>1.080176</td>\n",
       "      <td>-0.218689</td>\n",
       "      <td>-0.038072</td>\n",
       "      <td>-0.140240</td>\n",
       "      <td>-0.159324</td>\n",
       "      <td>-0.073459</td>\n",
       "      <td>-0.256194</td>\n",
       "      <td>0.628559</td>\n",
       "      <td>-0.189075</td>\n",
       "      <td>-0.02783</td>\n",
       "      <td>-0.102027</td>\n",
       "      <td>-0.030915</td>\n",
       "      <td>-0.077171</td>\n",
       "      <td>-0.023518</td>\n",
       "      <td>-0.224233</td>\n",
       "      <td>-0.153284</td>\n",
       "      <td>-0.035468</td>\n",
       "    </tr>\n",
       "  </tbody>\n",
       "</table>\n",
       "<p>69644 rows × 57 columns</p>\n",
       "</div>"
      ],
      "text/plain": [
       "            age  time_in_hospital  num_lab_procedures  num_procedures  \\\n",
       "94614 -0.059914          0.201391            1.011756       -0.786851   \n",
       "51782  1.194505          0.536180            0.910210        0.974046   \n",
       "55080 -0.687124         -0.468187            0.097841        1.561012   \n",
       "80378  0.567295         -1.137765           -0.359116       -0.786851   \n",
       "71486 -0.059914          0.201391            1.417940       -0.199885   \n",
       "...         ...               ...                 ...             ...   \n",
       "54780  1.194505          1.540546            1.468714       -0.786851   \n",
       "79395 -1.314334         -0.133398           -0.054478        2.147977   \n",
       "89888 -1.314334         -0.802976           -1.222258        0.974046   \n",
       "46534 -2.568753          0.536180           -1.679216       -0.199885   \n",
       "15647 -1.941543         -0.133398            0.960983       -0.786851   \n",
       "\n",
       "       num_medications  number_outpatient  number_emergency  number_inpatient  \\\n",
       "94614         0.119887          -0.292416         -0.214200          0.280717   \n",
       "51782         0.366200           1.274002         -0.214200         -0.505840   \n",
       "55080         0.735668          -0.292416         -0.214200         -0.505840   \n",
       "80378        -0.742207          -0.292416          0.849657          0.280717   \n",
       "71486         0.858824           2.840419          1.913513         -0.505840   \n",
       "...                ...                ...               ...               ...   \n",
       "54780        -0.495894          -0.292416         -0.214200          0.280717   \n",
       "79395         0.858824          -0.292416          0.849657         -0.505840   \n",
       "89888         1.720918          -0.292416         -0.214200         -0.505840   \n",
       "46534        -0.988519          -0.292416         -0.214200          1.853831   \n",
       "15647         0.489356          -0.292416         -0.214200          1.853831   \n",
       "\n",
       "       number_diagnoses  max_glu_serum  A1Cresult  metformin  repaglinide  \\\n",
       "94614          0.810344      -0.213874  -0.418572   2.024022    -0.124932   \n",
       "51782          0.810344      -0.213874  -0.418572  -0.494066    -0.124932   \n",
       "55080         -0.747262      -0.213874  -0.418572  -0.494066    -0.124932   \n",
       "80378         -0.747262      -0.213874  -0.418572  -0.494066    -0.124932   \n",
       "71486          0.810344      -0.213874  -0.418572   2.024022    -0.124932   \n",
       "...                 ...            ...        ...        ...          ...   \n",
       "54780          0.810344      -0.213874  -0.418572  -0.494066    -0.124932   \n",
       "79395          0.810344      -0.213874  -0.418572  -0.494066    -0.124932   \n",
       "89888          0.810344      -0.213874  -0.418572   2.024022    -0.124932   \n",
       "46534         -0.228060      -0.213874  -0.418572  -0.494066    -0.124932   \n",
       "15647          0.291142      -0.213874  -0.418572  -0.494066    -0.124932   \n",
       "\n",
       "       nateglinide  chlorpropamide  glimepiride  acetohexamide  glipizide  \\\n",
       "94614    -0.083933       -0.029242     4.331744       -0.00317  -0.377313   \n",
       "51782    -0.083933       -0.029242    -0.230854       -0.00317  -0.377313   \n",
       "55080    -0.083933       -0.029242    -0.230854       -0.00317  -0.377313   \n",
       "80378    -0.083933       -0.029242    -0.230854       -0.00317  -0.377313   \n",
       "71486    -0.083933       -0.029242    -0.230854       -0.00317  -0.377313   \n",
       "...            ...             ...          ...            ...        ...   \n",
       "54780    -0.083933       -0.029242    -0.230854       -0.00317  -0.377313   \n",
       "79395    -0.083933       -0.029242    -0.230854       -0.00317  -0.377313   \n",
       "89888    -0.083933       -0.029242    -0.230854       -0.00317  -0.377313   \n",
       "46534    -0.083933       -0.029242    -0.230854       -0.00317  -0.377313   \n",
       "15647    -0.083933       -0.029242    -0.230854       -0.00317  -0.377313   \n",
       "\n",
       "       glyburide  tolbutamide  pioglitazone  rosiglitazone   acarbose  \\\n",
       "94614  -0.341277    -0.014872     -0.278806      -0.258393  -0.055178   \n",
       "51782   2.930170    -0.014872     -0.278806      -0.258393  -0.055178   \n",
       "55080  -0.341277    -0.014872     -0.278806      -0.258393  -0.055178   \n",
       "80378  -0.341277    -0.014872     -0.278806      -0.258393  -0.055178   \n",
       "71486  -0.341277    -0.014872     -0.278806      -0.258393  18.123016   \n",
       "...          ...          ...           ...            ...        ...   \n",
       "54780  -0.341277    -0.014872     -0.278806      -0.258393  -0.055178   \n",
       "79395  -0.341277    -0.014872     -0.278806      -0.258393  -0.055178   \n",
       "89888  -0.341277    -0.014872     -0.278806      -0.258393  -0.055178   \n",
       "46534  -0.341277    -0.014872     -0.278806      -0.258393  -0.055178   \n",
       "15647  -0.341277    -0.014872     -0.278806      -0.258393  -0.055178   \n",
       "\n",
       "       miglitol  troglitazone  tolazamide   insulin  glyburide-metformin  \\\n",
       "94614 -0.019547     -0.005491   -0.019803  0.936650            -0.082956   \n",
       "51782 -0.019547     -0.005491   -0.019803 -1.067634            -0.082956   \n",
       "55080 -0.019547     -0.005491   -0.019803  0.936650            -0.082956   \n",
       "80378 -0.019547     -0.005491   -0.019803 -1.067634            -0.082956   \n",
       "71486 -0.019547     -0.005491   -0.019803  0.936650            -0.082956   \n",
       "...         ...           ...         ...       ...                  ...   \n",
       "54780 -0.019547     -0.005491   -0.019803 -1.067634            -0.082956   \n",
       "79395 -0.019547     -0.005491   -0.019803  0.936650            -0.082956   \n",
       "89888 -0.019547     -0.005491   -0.019803  0.936650            -0.082956   \n",
       "46534 -0.019547     -0.005491   -0.019803  0.936650            -0.082956   \n",
       "15647 -0.019547     -0.005491   -0.019803  0.936650            -0.082956   \n",
       "\n",
       "       glipizide-metformin  glimepiride-pioglitazone  metformin-rosiglitazone  \\\n",
       "94614            -0.011432                  -0.00317                      0.0   \n",
       "51782            -0.011432                  -0.00317                      0.0   \n",
       "55080            -0.011432                  -0.00317                      0.0   \n",
       "80378            -0.011432                  -0.00317                      0.0   \n",
       "71486            -0.011432                  -0.00317                      0.0   \n",
       "...                    ...                       ...                      ...   \n",
       "54780            -0.011432                  -0.00317                      0.0   \n",
       "79395            -0.011432                  -0.00317                      0.0   \n",
       "89888            -0.011432                  -0.00317                      0.0   \n",
       "46534            -0.011432                  -0.00317                      0.0   \n",
       "15647            -0.011432                  -0.00317                      0.0   \n",
       "\n",
       "       metformin-pioglitazone    change  diabetesMed  race_AfricanAmerican  \\\n",
       "94614                -0.00317  1.080328     0.548363             -0.489164   \n",
       "51782                -0.00317 -0.925644     0.548363             -0.489164   \n",
       "55080                -0.00317 -0.925644     0.548363             -0.489164   \n",
       "80378                -0.00317 -0.925644    -1.823609              2.044304   \n",
       "71486                -0.00317  1.080328     0.548363             -0.489164   \n",
       "...                       ...       ...          ...                   ...   \n",
       "54780                -0.00317 -0.925644    -1.823609             -0.489164   \n",
       "79395                -0.00317  1.080328     0.548363             -0.489164   \n",
       "89888                -0.00317  1.080328     0.548363             -0.489164   \n",
       "46534                -0.00317 -0.925644     0.548363              2.044304   \n",
       "15647                -0.00317 -0.925644     0.548363              2.044304   \n",
       "\n",
       "       race_Asian  race_Caucasian  race_Hispanic  race_Other  gender_Female  \\\n",
       "94614   -0.080526        0.554439      -0.144575   -0.123932       0.925775   \n",
       "51782   -0.080526        0.554439      -0.144575   -0.123932      -1.080176   \n",
       "55080   -0.080526        0.554439      -0.144575   -0.123932       0.925775   \n",
       "80378   -0.080526       -1.803626      -0.144575   -0.123932       0.925775   \n",
       "71486   -0.080526        0.554439      -0.144575   -0.123932      -1.080176   \n",
       "...           ...             ...            ...         ...            ...   \n",
       "54780   -0.080526        0.554439      -0.144575   -0.123932       0.925775   \n",
       "79395   -0.080526        0.554439      -0.144575   -0.123932       0.925775   \n",
       "89888   -0.080526        0.554439      -0.144575   -0.123932       0.925775   \n",
       "46534   -0.080526       -1.803626      -0.144575   -0.123932       0.925775   \n",
       "15647   -0.080526       -1.803626      -0.144575   -0.123932      -1.080176   \n",
       "\n",
       "       gender_Male  payer_code_BC  payer_code_CH  payer_code_CM  \\\n",
       "94614    -0.925775      -0.218689      -0.038072      -0.140240   \n",
       "51782     1.080176      -0.218689      -0.038072      -0.140240   \n",
       "55080    -0.925775      -0.218689      -0.038072      -0.140240   \n",
       "80378    -0.925775      -0.218689      -0.038072      -0.140240   \n",
       "71486     1.080176      -0.218689      -0.038072       7.130621   \n",
       "...            ...            ...            ...            ...   \n",
       "54780    -0.925775      -0.218689      -0.038072      -0.140240   \n",
       "79395    -0.925775      -0.218689      -0.038072      -0.140240   \n",
       "89888    -0.925775      -0.218689      -0.038072      -0.140240   \n",
       "46534    -0.925775      -0.218689      -0.038072      -0.140240   \n",
       "15647     1.080176      -0.218689      -0.038072      -0.140240   \n",
       "\n",
       "       payer_code_CP  payer_code_DM  payer_code_HM  payer_code_MC  \\\n",
       "94614      -0.159324      -0.073459      -0.256194      -1.590940   \n",
       "51782      -0.159324      -0.073459      -0.256194       0.628559   \n",
       "55080      -0.159324      -0.073459      -0.256194      -1.590940   \n",
       "80378      -0.159324      -0.073459      -0.256194       0.628559   \n",
       "71486      -0.159324      -0.073459      -0.256194      -1.590940   \n",
       "...              ...            ...            ...            ...   \n",
       "54780      -0.159324      -0.073459      -0.256194       0.628559   \n",
       "79395       6.276515      -0.073459      -0.256194      -1.590940   \n",
       "89888      -0.159324      -0.073459       3.903286      -1.590940   \n",
       "46534      -0.159324      -0.073459      -0.256194       0.628559   \n",
       "15647      -0.159324      -0.073459      -0.256194       0.628559   \n",
       "\n",
       "       payer_code_MD  payer_code_MP  payer_code_OG  payer_code_OT  \\\n",
       "94614      -0.189075       -0.02783       9.801294      -0.030915   \n",
       "51782      -0.189075       -0.02783      -0.102027      -0.030915   \n",
       "55080       5.288915       -0.02783      -0.102027      -0.030915   \n",
       "80378      -0.189075       -0.02783      -0.102027      -0.030915   \n",
       "71486      -0.189075       -0.02783      -0.102027      -0.030915   \n",
       "...              ...            ...            ...            ...   \n",
       "54780      -0.189075       -0.02783      -0.102027      -0.030915   \n",
       "79395      -0.189075       -0.02783      -0.102027      -0.030915   \n",
       "89888      -0.189075       -0.02783      -0.102027      -0.030915   \n",
       "46534      -0.189075       -0.02783      -0.102027      -0.030915   \n",
       "15647      -0.189075       -0.02783      -0.102027      -0.030915   \n",
       "\n",
       "       payer_code_PO  payer_code_SI  payer_code_SP  payer_code_UN  \\\n",
       "94614      -0.077171      -0.023518      -0.224233      -0.153284   \n",
       "51782      -0.077171      -0.023518      -0.224233      -0.153284   \n",
       "55080      -0.077171      -0.023518      -0.224233      -0.153284   \n",
       "80378      -0.077171      -0.023518      -0.224233      -0.153284   \n",
       "71486      -0.077171      -0.023518      -0.224233      -0.153284   \n",
       "...              ...            ...            ...            ...   \n",
       "54780      -0.077171      -0.023518      -0.224233      -0.153284   \n",
       "79395      -0.077171      -0.023518      -0.224233      -0.153284   \n",
       "89888      -0.077171      -0.023518      -0.224233      -0.153284   \n",
       "46534      -0.077171      -0.023518      -0.224233      -0.153284   \n",
       "15647      -0.077171      -0.023518      -0.224233      -0.153284   \n",
       "\n",
       "       payer_code_WC  \n",
       "94614      -0.035468  \n",
       "51782      -0.035468  \n",
       "55080      -0.035468  \n",
       "80378      -0.035468  \n",
       "71486      -0.035468  \n",
       "...              ...  \n",
       "54780      -0.035468  \n",
       "79395      -0.035468  \n",
       "89888      -0.035468  \n",
       "46534      -0.035468  \n",
       "15647      -0.035468  \n",
       "\n",
       "[69644 rows x 57 columns]"
      ]
     },
     "execution_count": 22,
     "metadata": {},
     "output_type": "execute_result"
    }
   ],
   "source": [
    "X_train"
   ]
  },
  {
   "cell_type": "code",
   "execution_count": 84,
   "metadata": {
    "scrolled": true
   },
   "outputs": [
    {
     "data": {
      "image/png": "[encoded data removed]",
      "text/plain": [
       "<Figure size 432x288 with 1 Axes>"
      ]
     },
     "metadata": {
      "needs_background": "light"
     },
     "output_type": "display_data"
    }
   ],
   "source": [
    "plt.figure(figsize=(6,4))\n",
    "sns.countplot(y_train)\n",
    "plt.title('Imbalanced Dataset')\n",
    "plt.show()"
   ]
  },
  {
   "cell_type": "code",
   "execution_count": 24,
   "metadata": {},
   "outputs": [],
   "source": [
    "# SMOTE \n",
    "from imblearn.over_sampling import SMOTE \n",
    "sm = SMOTE(random_state=42)\n",
    "X_train_res, y_train_res = sm.fit_sample(X_train, y_train)"
   ]
  },
  {
   "cell_type": "code",
   "execution_count": 85,
   "metadata": {},
   "outputs": [
    {
     "data": {
      "text/plain": [
       "<matplotlib.axes._subplots.AxesSubplot at 0x15dec4c90>"
      ]
     },
     "execution_count": 85,
     "metadata": {},
     "output_type": "execute_result"
    },
    {
     "data": {
      "image/png": "[encoded data removed]",
      "text/plain": [
       "<Figure size 432x288 with 1 Axes>"
      ]
     },
     "metadata": {
      "needs_background": "light"
     },
     "output_type": "display_data"
    }
   ],
   "source": [
    "plt.figure(figsize=(6,4))\n",
    "sns.countplot(y_train_res)"
   ]
  },
  {
   "cell_type": "markdown",
   "metadata": {},
   "source": [
    "# Helper Functions"
   ]
  },
  {
   "cell_type": "code",
   "execution_count": 25,
   "metadata": {},
   "outputs": [],
   "source": [
    "# Plot ROC Curve\n",
    "def plot_roc_curve(model, title = \"ROC Curve\", X_test = X_test, y_test = y_test):\n",
    "    probs = model.predict_proba(X_test)\n",
    "    preds = probs[:,1]\n",
    "    fpr, tpr, threshold = roc_curve(y_test, preds)\n",
    "    roc_auc = auc(fpr, tpr)\n",
    "    \n",
    "    plt.figure(figsize = (10,8))\n",
    "    plt.title(title)\n",
    "    plt.plot(fpr, tpr, 'b', label = \"AUC = %0.2f\"%roc_auc)\n",
    "    plt.legend(loc = 'lower right')\n",
    "    plt.plot([0,1],[0,1], 'r--')\n",
    "    plt.xlim([0,1])\n",
    "    plt.ylim([0,1])\n",
    "    plt.ylabel(\"True Positive Rate\")\n",
    "    plt.xlabel(\"False Positive Rate\")\n",
    "    plt.show()\n",
    "    \n",
    "# Print Confusion Matrix / Classification Report\n",
    "def show_metrics(model, X_test = X_test, y_test = y_test):\n",
    "    preds = model.predict(X_test)\n",
    "    print(classification_report(y_test, preds))\n",
    "    print('-'*40)\n",
    "    print(confusion_matrix(y_test, preds))"
   ]
  },
  {
   "cell_type": "code",
   "execution_count": 26,
   "metadata": {},
   "outputs": [],
   "source": [
    "# Plotting Feature Importance\n",
    "def plot_feature_importance(values, names, model_name, n_features=10):\n",
    "    '''Plots feature importances \n",
    "    \n",
    "    Plots top important features for a given model\n",
    "    \n",
    "    Args:\n",
    "        values: \n",
    "            Feature importance values for a given model\n",
    "        names: \n",
    "            Feature names from training data set\n",
    "        n_features: \n",
    "            Number of features to show - default is 10\n",
    "            \n",
    "    Returns: \n",
    "        A bar plot showing the top n_features. \n",
    "        \n",
    "    '''\n",
    "    # make arrays for feature importance values and names \n",
    "    feature_importance = np.array(values)\n",
    "    feature_names = np.array(names)\n",
    "    \n",
    "    # create DataFrame and sort by feature importance\n",
    "    data = {'Feature':feature_names, 'Feature Importance':feature_importance}\n",
    "    fidf = pd.DataFrame(data)\n",
    "    fidf = fidf.sort_values('Feature Importance', ascending=False).head(n_features)\n",
    "    \n",
    "    # plot figure\n",
    "    plt.figure(figsize = (10,8))\n",
    "    sns.barplot(x=fidf['Feature Importance'], y=fidf['Feature'])\n",
    "    plt.title(model_name + ' Feature Importance')\n",
    "    plt.xlabel('Feature Importance')\n",
    "    plt.ylabel('Feature')\n",
    "    \n",
    "    \n",
    "    \n",
    "    "
   ]
  },
  {
   "cell_type": "markdown",
   "metadata": {},
   "source": [
    "# Training Machine Learning Models"
   ]
  },
  {
   "cell_type": "code",
   "execution_count": 27,
   "metadata": {},
   "outputs": [],
   "source": [
    "from sklearn.metrics import confusion_matrix, classification_report, roc_curve, auc\n"
   ]
  },
  {
   "cell_type": "markdown",
   "metadata": {},
   "source": [
    "## Random Forest Classifier"
   ]
  },
  {
   "cell_type": "code",
   "execution_count": 28,
   "metadata": {},
   "outputs": [],
   "source": [
    "from sklearn.ensemble import RandomForestClassifier\n",
    "\n",
    "rf_clf = RandomForestClassifier(n_jobs = -1)\n",
    "\n",
    "rf_clf.fit(X_train_res, y_train_res)\n",
    "rf_preds = rf_clf.predict(X_test)"
   ]
  },
  {
   "cell_type": "code",
   "execution_count": 29,
   "metadata": {},
   "outputs": [
    {
     "name": "stdout",
     "output_type": "stream",
     "text": [
      "              precision    recall  f1-score   support\n",
      "\n",
      "           0       0.89      0.99      0.94     26497\n",
      "           1       0.34      0.03      0.06      3351\n",
      "\n",
      "    accuracy                           0.88     29848\n",
      "   macro avg       0.62      0.51      0.50     29848\n",
      "weighted avg       0.83      0.88      0.84     29848\n",
      "\n",
      "----------------------------------------\n",
      "[[26275   222]\n",
      " [ 3235   116]]\n"
     ]
    }
   ],
   "source": [
    "show_metrics(rf_clf)"
   ]
  },
  {
   "cell_type": "code",
   "execution_count": 30,
   "metadata": {},
   "outputs": [
    {
     "data": {
      "image/png": "[encoded data removed]",
      "text/plain": [
       "<Figure size 720x576 with 1 Axes>"
      ]
     },
     "metadata": {
      "needs_background": "light"
     },
     "output_type": "display_data"
    }
   ],
   "source": [
    "plot_roc_curve(rf_clf, title = \"Random Forest ROC Curve\")"
   ]
  },
  {
   "cell_type": "code",
   "execution_count": 31,
   "metadata": {},
   "outputs": [
    {
     "data": {
      "image/png": "[encoded data removed]",
      "text/plain": [
       "<Figure size 720x576 with 1 Axes>"
      ]
     },
     "metadata": {
      "needs_background": "light"
     },
     "output_type": "display_data"
    }
   ],
   "source": [
    "plot_feature_importance(rf_clf.feature_importances_, X_train_res.columns, 'Random Forest')"
   ]
  },
  {
   "cell_type": "markdown",
   "metadata": {},
   "source": [
    "## Logistic Regression"
   ]
  },
  {
   "cell_type": "code",
   "execution_count": 32,
   "metadata": {},
   "outputs": [],
   "source": [
    "from sklearn.linear_model import LogisticRegression\n",
    "\n",
    "logmodel = LogisticRegression()\n",
    "logmodel.fit(X_train_res, y_train_res)\n",
    "preds = logmodel.predict(X_test)"
   ]
  },
  {
   "cell_type": "code",
   "execution_count": 33,
   "metadata": {},
   "outputs": [
    {
     "name": "stdout",
     "output_type": "stream",
     "text": [
      "              precision    recall  f1-score   support\n",
      "\n",
      "           0       0.92      0.65      0.76     26497\n",
      "           1       0.16      0.53      0.25      3351\n",
      "\n",
      "    accuracy                           0.63     29848\n",
      "   macro avg       0.54      0.59      0.50     29848\n",
      "weighted avg       0.83      0.63      0.70     29848\n",
      "\n",
      "----------------------------------------\n",
      "[[17130  9367]\n",
      " [ 1562  1789]]\n"
     ]
    }
   ],
   "source": [
    "show_metrics(logmodel)"
   ]
  },
  {
   "cell_type": "code",
   "execution_count": 34,
   "metadata": {},
   "outputs": [
    {
     "data": {
      "image/png": "[encoded data removed]",
      "text/plain": [
       "<Figure size 720x576 with 1 Axes>"
      ]
     },
     "metadata": {
      "needs_background": "light"
     },
     "output_type": "display_data"
    }
   ],
   "source": [
    "plot_roc_curve(logmodel, 'Logistic Regression ROC Curve')"
   ]
  },
  {
   "cell_type": "code",
   "execution_count": 40,
   "metadata": {},
   "outputs": [
    {
     "data": {
      "image/png": "[encoded data removed]",
      "text/plain": [
       "<Figure size 720x576 with 1 Axes>"
      ]
     },
     "metadata": {
      "needs_background": "light"
     },
     "output_type": "display_data"
    }
   ],
   "source": [
    "plot_feature_importance(logmodel.coef_.reshape(logmodel.coef_.shape[1],), X_train_res.columns, 'Logistic Regression')"
   ]
  },
  {
   "cell_type": "markdown",
   "metadata": {},
   "source": [
    "## Logistic Regression Grid Search"
   ]
  },
  {
   "cell_type": "code",
   "execution_count": 57,
   "metadata": {},
   "outputs": [
    {
     "name": "stdout",
     "output_type": "stream",
     "text": [
      "Fitting 5 folds for each of 45 candidates, totalling 225 fits\n"
     ]
    },
    {
     "name": "stderr",
     "output_type": "stream",
     "text": [
      "[Parallel(n_jobs=-1)]: Using backend LokyBackend with 8 concurrent workers.\n",
      "[Parallel(n_jobs=-1)]: Done  34 tasks      | elapsed:   36.9s\n",
      "[Parallel(n_jobs=-1)]: Done 184 tasks      | elapsed:  2.4min\n",
      "[Parallel(n_jobs=-1)]: Done 225 out of 225 | elapsed:  2.9min finished\n",
      "/opt/anaconda3/lib/python3.7/site-packages/sklearn/linear_model/_sag.py:330: ConvergenceWarning: The max_iter was reached which means the coef_ did not converge\n",
      "  \"the coef_ did not converge\", ConvergenceWarning)\n"
     ]
    },
    {
     "data": {
      "text/plain": [
       "GridSearchCV(cv=5, error_score=nan,\n",
       "             estimator=LogisticRegression(C=1.0, class_weight=None, dual=False,\n",
       "                                          fit_intercept=True,\n",
       "                                          intercept_scaling=1, l1_ratio=None,\n",
       "                                          max_iter=100, multi_class='auto',\n",
       "                                          n_jobs=None, penalty='l2',\n",
       "                                          random_state=None, solver='lbfgs',\n",
       "                                          tol=0.0001, verbose=0,\n",
       "                                          warm_start=False),\n",
       "             iid='deprecated', n_jobs=-1,\n",
       "             param_grid={'C': [1, 10, 100],\n",
       "                         'penalty': ['l1', 'l2', 'elasticnet'],\n",
       "                         'solver': ['newton-cg', 'lbfgs', 'liblinear', 'sag',\n",
       "                                    'saga']},\n",
       "             pre_dispatch='2*n_jobs', refit=True, return_train_score=False,\n",
       "             scoring=None, verbose=1)"
      ]
     },
     "execution_count": 57,
     "metadata": {},
     "output_type": "execute_result"
    }
   ],
   "source": [
    "param_grid = {'penalty':['l1','l2','elasticnet'], 'C':[1,10,100], \n",
    "              'solver':['newton-cg','lbfgs','liblinear','sag','saga']}\n",
    "\n",
    "lr_grid = GridSearchCV(logmodel, param_grid=param_grid,\n",
    "                       n_jobs=-1, cv=5, verbose=1)\n",
    "\n",
    "lr_grid.fit(X_train_res, y_train_res)"
   ]
  },
  {
   "cell_type": "code",
   "execution_count": 60,
   "metadata": {},
   "outputs": [
    {
     "data": {
      "image/png": "[encoded data removed]",
      "text/plain": [
       "<Figure size 720x576 with 1 Axes>"
      ]
     },
     "metadata": {
      "needs_background": "light"
     },
     "output_type": "display_data"
    }
   ],
   "source": [
    "best_lrgrid = lr_grid.best_estimator_\n",
    "plot_roc_curve(best_lrgrid, \"Grid Search Logistic Regression\")"
   ]
  },
  {
   "cell_type": "code",
   "execution_count": 62,
   "metadata": {},
   "outputs": [
    {
     "data": {
      "image/png": "[encoded data removed]",
      "text/plain": [
       "<Figure size 720x576 with 1 Axes>"
      ]
     },
     "metadata": {
      "needs_background": "light"
     },
     "output_type": "display_data"
    }
   ],
   "source": [
    "plot_feature_importance(best_lrgrid.coef_.reshape(best_lrgrid.coef_.shape[1]), X_train_res.columns, \"Grid Search Logistic Regression\")"
   ]
  },
  {
   "cell_type": "markdown",
   "metadata": {},
   "source": [
    "## Logistic Regression + Bootstrap Aggregation"
   ]
  },
  {
   "cell_type": "code",
   "execution_count": null,
   "metadata": {},
   "outputs": [],
   "source": [
    "best_lrgrid.c"
   ]
  },
  {
   "cell_type": "code",
   "execution_count": 41,
   "metadata": {},
   "outputs": [
    {
     "data": {
      "text/plain": [
       "BaggingClassifier(base_estimator=LogisticRegression(C=1.0, class_weight=None,\n",
       "                                                    dual=False,\n",
       "                                                    fit_intercept=True,\n",
       "                                                    intercept_scaling=1,\n",
       "                                                    l1_ratio=None, max_iter=100,\n",
       "                                                    multi_class='auto',\n",
       "                                                    n_jobs=None, penalty='l2',\n",
       "                                                    random_state=None,\n",
       "                                                    solver='lbfgs', tol=0.0001,\n",
       "                                                    verbose=0,\n",
       "                                                    warm_start=False),\n",
       "                  bootstrap=True, bootstrap_features=False, max_features=1.0,\n",
       "                  max_samples=1.0, n_estimators=10, n_jobs=-1, oob_score=False,\n",
       "                  random_state=42, verbose=0, warm_start=False)"
      ]
     },
     "execution_count": 41,
     "metadata": {},
     "output_type": "execute_result"
    }
   ],
   "source": [
    "from sklearn.ensemble import BaggingClassifier\n",
    "\n",
    "lr_bagger = BaggingClassifier(logmodel, n_jobs = -1, random_state = 42)\n",
    "lr_bagger.fit(X_train_res, y_train_res)"
   ]
  },
  {
   "cell_type": "code",
   "execution_count": 42,
   "metadata": {},
   "outputs": [
    {
     "name": "stdout",
     "output_type": "stream",
     "text": [
      "              precision    recall  f1-score   support\n",
      "\n",
      "           0       0.92      0.65      0.76     26497\n",
      "           1       0.16      0.53      0.25      3351\n",
      "\n",
      "    accuracy                           0.63     29848\n",
      "   macro avg       0.54      0.59      0.50     29848\n",
      "weighted avg       0.83      0.63      0.70     29848\n",
      "\n",
      "----------------------------------------\n",
      "[[17148  9349]\n",
      " [ 1569  1782]]\n"
     ]
    }
   ],
   "source": [
    "show_metrics(lr_bagger)"
   ]
  },
  {
   "cell_type": "code",
   "execution_count": 43,
   "metadata": {},
   "outputs": [
    {
     "data": {
      "image/png": "[encoded data removed]",
      "text/plain": [
       "<Figure size 720x576 with 1 Axes>"
      ]
     },
     "metadata": {
      "needs_background": "light"
     },
     "output_type": "display_data"
    }
   ],
   "source": [
    "plot_roc_curve(lr_bagger, \"Logistic Regression + Bagging ROC Curve\")"
   ]
  },
  {
   "cell_type": "code",
   "execution_count": 44,
   "metadata": {},
   "outputs": [
    {
     "name": "stdout",
     "output_type": "stream",
     "text": [
      "Fitting 5 folds for each of 40 candidates, totalling 200 fits\n"
     ]
    },
    {
     "name": "stderr",
     "output_type": "stream",
     "text": [
      "[Parallel(n_jobs=-1)]: Using backend LokyBackend with 8 concurrent workers.\n",
      "[Parallel(n_jobs=-1)]: Done  34 tasks      | elapsed:  1.8min\n",
      "[Parallel(n_jobs=-1)]: Done 184 tasks      | elapsed: 13.4min\n",
      "[Parallel(n_jobs=-1)]: Done 200 out of 200 | elapsed: 15.2min finished\n"
     ]
    },
    {
     "data": {
      "text/plain": [
       "GridSearchCV(cv=None, error_score=nan,\n",
       "             estimator=BaggingClassifier(base_estimator=LogisticRegression(C=1.0,\n",
       "                                                                           class_weight=None,\n",
       "                                                                           dual=False,\n",
       "                                                                           fit_intercept=True,\n",
       "                                                                           intercept_scaling=1,\n",
       "                                                                           l1_ratio=None,\n",
       "                                                                           max_iter=100,\n",
       "                                                                           multi_class='auto',\n",
       "                                                                           n_jobs=None,\n",
       "                                                                           penalty='l2',\n",
       "                                                                           random_state=None,\n",
       "                                                                           solver='lbfgs',\n",
       "                                                                           tol=0.0001,\n",
       "                                                                           verbose=0,\n",
       "                                                                           warm_start=False),\n",
       "                                         bootstrap=True,\n",
       "                                         bootstrap_features=False,\n",
       "                                         max_features=1.0, max_samples=1.0,\n",
       "                                         n_estimators=10, n_jobs=-1,\n",
       "                                         oob_score=False, random_state=42,\n",
       "                                         verbose=0, warm_start=False),\n",
       "             iid='deprecated', n_jobs=-1,\n",
       "             param_grid={'max_features': [0.4, 0.5, 0.6, 0.7, 0.8],\n",
       "                         'n_estimators': [10, 15, 20, 25, 30, 35, 40, 45]},\n",
       "             pre_dispatch='2*n_jobs', refit=True, return_train_score=False,\n",
       "             scoring='roc_auc', verbose=1)"
      ]
     },
     "execution_count": 44,
     "metadata": {},
     "output_type": "execute_result"
    }
   ],
   "source": [
    "from sklearn.model_selection import GridSearchCV\n",
    "\n",
    "param_grid = {'n_estimators':list(range(10,50,5)),\n",
    "               'max_features':[0.4,0.5,0.6,0.7,0.8]}\n",
    "\n",
    "lr_bagger_grid = GridSearchCV(lr_bagger, param_grid=param_grid, n_jobs=-1, \n",
    "                              scoring='roc_auc', verbose=1)\n",
    "\n",
    "lr_bagger_grid.fit(X_train_res, y_train_res)"
   ]
  },
  {
   "cell_type": "code",
   "execution_count": 45,
   "metadata": {},
   "outputs": [],
   "source": [
    "lr_bagger_grid.best_params_\n",
    "\n",
    "grid_lr_bagger = lr_bagger_grid.best_estimator_"
   ]
  },
  {
   "cell_type": "code",
   "execution_count": 46,
   "metadata": {},
   "outputs": [
    {
     "data": {
      "image/png": "[encoded data removed]",
      "text/plain": [
       "<Figure size 720x576 with 1 Axes>"
      ]
     },
     "metadata": {
      "needs_background": "light"
     },
     "output_type": "display_data"
    }
   ],
   "source": [
    "plot_roc_curve(grid_lr_bagger,'Turned / Bagged Logistic Regression')"
   ]
  },
  {
   "cell_type": "markdown",
   "metadata": {},
   "source": [
    "## XGBoost Classifier"
   ]
  },
  {
   "cell_type": "code",
   "execution_count": 47,
   "metadata": {},
   "outputs": [
    {
     "data": {
      "text/plain": [
       "XGBClassifier(base_score=0.5, booster='gbtree', colsample_bylevel=1,\n",
       "              colsample_bynode=1, colsample_bytree=1, gamma=0,\n",
       "              learning_rate=0.1, max_delta_step=0, max_depth=3,\n",
       "              min_child_weight=1, missing=None, n_estimators=10, n_jobs=1,\n",
       "              nthread=None, objective='binary:logistic', random_state=0,\n",
       "              reg_alpha=0, reg_lambda=1, scale_pos_weight=1, seed=42,\n",
       "              silent=None, subsample=1, verbosity=1)"
      ]
     },
     "execution_count": 47,
     "metadata": {},
     "output_type": "execute_result"
    }
   ],
   "source": [
    "import xgboost as xgb \n",
    "\n",
    "xgb_clf = xgb.XGBClassifier(objective='binary:logistic', n_estimators=10, seed = 42)\n",
    "xgb_clf.fit(X_train_res, y_train_res)"
   ]
  },
  {
   "cell_type": "code",
   "execution_count": 48,
   "metadata": {},
   "outputs": [
    {
     "name": "stdout",
     "output_type": "stream",
     "text": [
      "              precision    recall  f1-score   support\n",
      "\n",
      "           0       0.90      0.87      0.89     26497\n",
      "           1       0.21      0.28      0.24      3351\n",
      "\n",
      "    accuracy                           0.80     29848\n",
      "   macro avg       0.56      0.57      0.56     29848\n",
      "weighted avg       0.83      0.80      0.81     29848\n",
      "\n",
      "----------------------------------------\n",
      "[[23051  3446]\n",
      " [ 2424   927]]\n"
     ]
    }
   ],
   "source": [
    "show_metrics(xgb_clf)"
   ]
  },
  {
   "cell_type": "code",
   "execution_count": 49,
   "metadata": {},
   "outputs": [
    {
     "data": {
      "image/png": "[encoded data removed]",
      "text/plain": [
       "<Figure size 720x576 with 1 Axes>"
      ]
     },
     "metadata": {
      "needs_background": "light"
     },
     "output_type": "display_data"
    }
   ],
   "source": [
    "plot_roc_curve(xgb_clf, title=\"XGBoost ROC Curve\")"
   ]
  },
  {
   "cell_type": "code",
   "execution_count": 87,
   "metadata": {},
   "outputs": [
    {
     "data": {
      "text/plain": [
       "<matplotlib.axes._subplots.AxesSubplot at 0x18aa88e90>"
      ]
     },
     "execution_count": 87,
     "metadata": {},
     "output_type": "execute_result"
    },
    {
     "data": {
      "image/png": "[encoded data removed]",
      "text/plain": [
       "<Figure size 432x288 with 1 Axes>"
      ]
     },
     "metadata": {
      "needs_background": "light"
     },
     "output_type": "display_data"
    }
   ],
   "source": [
    "feature_important = xgb_clf.get_booster().get_score(importance_type='weight')\n",
    "keys = list(feature_important.keys())\n",
    "values = list(feature_important.values())\n",
    "\n",
    "data = pd.DataFrame(data=values, index=keys, columns=[\"score\"]).sort_values(by = \"score\", ascending=False)\n",
    "data.plot(kind='barh')"
   ]
  },
  {
   "cell_type": "markdown",
   "metadata": {},
   "source": [
    "# Ensembling"
   ]
  },
  {
   "cell_type": "code",
   "execution_count": 50,
   "metadata": {},
   "outputs": [
    {
     "data": {
      "text/plain": [
       "VotingClassifier(estimators=[('Random Forest',\n",
       "                              RandomForestClassifier(bootstrap=True,\n",
       "                                                     ccp_alpha=0.0,\n",
       "                                                     class_weight=None,\n",
       "                                                     criterion='gini',\n",
       "                                                     max_depth=None,\n",
       "                                                     max_features='auto',\n",
       "                                                     max_leaf_nodes=None,\n",
       "                                                     max_samples=None,\n",
       "                                                     min_impurity_decrease=0.0,\n",
       "                                                     min_impurity_split=None,\n",
       "                                                     min_samples_leaf=1,\n",
       "                                                     min_samples_split=2,\n",
       "                                                     min_weight_fraction_leaf=0.0,\n",
       "                                                     n_estimators=100,\n",
       "                                                     n_jobs=-1, o...\n",
       "                                            colsample_bynode=1,\n",
       "                                            colsample_bytree=1, gamma=0,\n",
       "                                            learning_rate=0.1, max_delta_step=0,\n",
       "                                            max_depth=3, min_child_weight=1,\n",
       "                                            missing=None, n_estimators=10,\n",
       "                                            n_jobs=1, nthread=None,\n",
       "                                            objective='binary:logistic',\n",
       "                                            random_state=0, reg_alpha=0,\n",
       "                                            reg_lambda=1, scale_pos_weight=1,\n",
       "                                            seed=42, silent=None, subsample=1,\n",
       "                                            verbosity=1))],\n",
       "                 flatten_transform=True, n_jobs=None, voting='soft',\n",
       "                 weights=None)"
      ]
     },
     "execution_count": 50,
     "metadata": {},
     "output_type": "execute_result"
    }
   ],
   "source": [
    "from sklearn.ensemble import VotingClassifier\n",
    "\n",
    "voter = VotingClassifier(estimators = [('Random Forest',rf_clf),('Bagged Logistic Regression',lr_bagger),\n",
    "                                       ('XGBoost',xgb_clf)], voting='soft')\n",
    "\n",
    "voter.fit(X_train_res, y_train_res)\n"
   ]
  },
  {
   "cell_type": "code",
   "execution_count": 51,
   "metadata": {},
   "outputs": [
    {
     "name": "stdout",
     "output_type": "stream",
     "text": [
      "              precision    recall  f1-score   support\n",
      "\n",
      "           0       0.90      0.92      0.91     26497\n",
      "           1       0.24      0.19      0.21      3351\n",
      "\n",
      "    accuracy                           0.84     29848\n",
      "   macro avg       0.57      0.56      0.56     29848\n",
      "weighted avg       0.83      0.84      0.83     29848\n",
      "\n",
      "----------------------------------------\n",
      "[[24455  2042]\n",
      " [ 2702   649]]\n"
     ]
    }
   ],
   "source": [
    "show_metrics(voter)"
   ]
  },
  {
   "cell_type": "code",
   "execution_count": 52,
   "metadata": {},
   "outputs": [
    {
     "data": {
      "image/png": "[encoded data removed]",
      "text/plain": [
       "<Figure size 720x576 with 1 Axes>"
      ]
     },
     "metadata": {
      "needs_background": "light"
     },
     "output_type": "display_data"
    }
   ],
   "source": [
    "plot_roc_curve(voter, title=\"Ensemble ROC Curve\")"
   ]
  },
  {
   "cell_type": "markdown",
   "metadata": {},
   "source": [
    "## Decision Tree Classifer"
   ]
  },
  {
   "cell_type": "code",
   "execution_count": 63,
   "metadata": {},
   "outputs": [],
   "source": [
    "from sklearn.tree import DecisionTreeClassifier\n",
    "\n",
    "dt_clf = DecisionTreeClassifier()"
   ]
  },
  {
   "cell_type": "code",
   "execution_count": 66,
   "metadata": {},
   "outputs": [
    {
     "data": {
      "image/png": "[encoded data removed]",
      "text/plain": [
       "<Figure size 720x576 with 1 Axes>"
      ]
     },
     "metadata": {
      "needs_background": "light"
     },
     "output_type": "display_data"
    }
   ],
   "source": [
    "dt_clf.fit(X_train_res, y_train_res)\n",
    "\n",
    "plot_roc_curve(dt_clf, \"Decision Tree Classifier\")"
   ]
  },
  {
   "cell_type": "code",
   "execution_count": null,
   "metadata": {},
   "outputs": [],
   "source": [
    "# Evaluate different models \n",
    "\n",
    "# models = []\n",
    "# models.append(('LR', LogisticRegression()))\n",
    "# models.append(('LDA', LinearDiscriminantAnalysis()))\n",
    "# models.append(('KNN', KNeighborsClassifier()))\n",
    "# models.append(('CART', DecisionTreeClassifier()))\n",
    "# models.append(('NB', GaussianNB()))\n",
    "# models.append(('SVM', SVC()))\n",
    "# # evaluate each model in turn\n",
    "# results = []\n",
    "# names = []\n",
    "# scoring = 'accuracy'\n",
    "# for name, model in models:\n",
    "# \tkfold = model_selection.KFold(n_splits=10, random_state=seed)\n",
    "# \tcv_results = model_selection.cross_val_score(model, X, Y, cv=kfold, scoring=scoring)\n",
    "# \tresults.append(cv_results)\n",
    "# \tnames.append(name)\n",
    "# \tmsg = \"%s: %f (%f)\" % (name, cv_results.mean(), cv_results.std())\n",
    "# \tprint(msg)\n",
    "# # boxplot algorithm comparison\n",
    "# fig = plt.figure()\n",
    "# fig.suptitle('Algorithm Comparison')\n",
    "# ax = fig.add_subplot(111)\n",
    "# plt.boxplot(results)\n",
    "# ax.set_xticklabels(names)\n",
    "# plt.show()"
   ]
  },
  {
   "cell_type": "code",
   "execution_count": 88,
   "metadata": {},
   "outputs": [],
   "source": [
    "#https://github.com/darwin-a/PersonalProjects/blob/master/Personal%20Programming%20Projects/Python/Data%20Science/Early%20Student%20Failure%20Detection%20Algorithm/Machine%20Learning%20Algorithm%20for%20Student%20Scores.ipynb"
   ]
  },
  {
   "cell_type": "code",
   "execution_count": null,
   "metadata": {},
   "outputs": [],
   "source": []
  }
 ],
 "metadata": {
  "kernelspec": {
   "display_name": "Python 3",
   "language": "python",
   "name": "python3"
  },
  "language_info": {
   "codemirror_mode": {
    "name": "ipython",
    "version": 3
   },
   "file_extension": ".py",
   "mimetype": "text/x-python",
   "name": "python",
   "nbconvert_exporter": "python",
   "pygments_lexer": "ipython3",
   "version": "3.7.4"
  }
 },
 "nbformat": 4,
 "nbformat_minor": 2
}
